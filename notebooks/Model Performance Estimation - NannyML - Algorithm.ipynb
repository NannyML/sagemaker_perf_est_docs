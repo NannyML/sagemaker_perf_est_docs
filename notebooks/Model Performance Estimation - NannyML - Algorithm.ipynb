{
 "cells": [
  {
   "cell_type": "markdown",
   "metadata": {},
   "source": [
    "# Using NannyML Performance Estimation Algorithm from AWS Marketplace "
   ]
  },
  {
   "cell_type": "markdown",
   "metadata": {},
   "source": [
    "## Overview\n",
    "\n",
    "NannyML can estimate the performance of a machine learning model running in production. You can read more about how it works [here](https://nannyml.readthedocs.io/en/stable/how_it_works/performance_estimation.html).\n",
    "\n",
    "\n",
    "This sample notebook shows you how to use [Model Performance Estimation - NannyML](https://aws.amazon.com/marketplace/pp/prodview-uotyt66szg34o) from AWS Marketplace to estimate the performance of your deployed machine learnign models.\n",
    "\n",
    "Performance Estimation can work for binary classification, multiclass classification and regression.\n",
    "\n",
    "> **Note**: This is a reference notebook and it cannot run unless you make changes suggested in the notebook.\n",
    "\n",
    "## Pre-requisites\n",
    "1. **Note**: This notebook contains elements which render correctly in Jupyter interface. Open this notebook from an Amazon SageMaker Notebook Instance or Amazon SageMaker Studio.\n",
    "1. Ensure that IAM role used has **AmazonSageMakerFullAccess**\n",
    "1. Some hands-on experience using [Amazon SageMaker](https://aws.amazon.com/sagemaker/).\n",
    "1. To use this algorithm successfully, ensure that:\n",
    "    1. Either your IAM role has these three permissions and you have authority to make AWS Marketplace subscriptions in the AWS account used: \n",
    "        1. **aws-marketplace:ViewSubscriptions**\n",
    "        1. **aws-marketplace:Unsubscribe**\n",
    "        1. **aws-marketplace:Subscribe**  \n",
    "    2. or your AWS account has a subscription to [Model Performance Estimation - NannyML](https://aws.amazon.com/marketplace/pp/prodview-uotyt66szg34o). \n",
    "\n",
    "## Contents\n",
    "1. [Subscribe to the algorithm](#1.-Subscribe-to-the-algorithm)\n",
    "1. [Prepare dataset](#2.-Prepare-dataset)\n",
    "\t1. [Dataset format expected by the algorithm](#A.-Dataset-format-expected-by-the-algorithm)\n",
    "\t1. [Configure and visualize train and test dataset](#B.-Configure-and-visualize-train-and-test-dataset)\n",
    "\t1. [Upload datasets to Amazon S3](#C.-Upload-datasets-to-Amazon-S3)\n",
    "1. [Train a machine learning model](#3:-Train-a-machine-learning-model)\n",
    "\t1. [Set up environment](#3.1-Set-up-environment)\n",
    "\t1. [Train a model](#3.2-Train-a-model)\n",
    "1. [Deploy model](#4:-Deploy-model)\n",
    "1. [Perform Batch inference](#6.-Perform-Batch-inference)\n",
    "1. [Clean-up](#7.-Clean-up)\n",
    "\t1. [Delete the model](#A.-Delete-the-model)\n",
    "\t1. [Unsubscribe to the listing (optional)](#B.-Unsubscribe-to-the-listing-(optional))\n",
    "\n",
    "\n",
    "## Usage instructions\n",
    "You can run this notebook one cell at a time (By using Shift+Enter for running a cell)."
   ]
  },
  {
   "cell_type": "markdown",
   "metadata": {},
   "source": [
    "## 1. Subscribe to the algorithm"
   ]
  },
  {
   "cell_type": "markdown",
   "metadata": {},
   "source": [
    "To subscribe to the algorithm:\n",
    "1. Open the algorithm listing page [Model Performance Estimation - NannyML](https://aws.amazon.com/marketplace/pp/prodview-uotyt66szg34o)\n",
    "1. On the AWS Marketplace listing,  click on **Continue to subscribe** button.\n",
    "1. On the **Subscribe to this software** page, review and click on **\"Accept Offer\"** if you agree with EULA, pricing, and support terms. \n",
    "1. Once you click on **Continue to configuration button** and then choose a **region**, you will see a **Product Arn**. This is the algorithm ARN that you need to specify while training a custom ML model. Copy the ARN corresponding to your region and specify the same in the following cell.\n",
    "\n",
    "<font color='red'>Directly copy your assigned ARN code below:<font>"
   ]
  },
  {
   "cell_type": "code",
   "execution_count": 1,
   "metadata": {
    "tags": []
   },
   "outputs": [],
   "source": [
    "# algo_arn = \"<Customer to specify algorithm ARN corresponding to their AWS region>\"\n",
    "with open('arn.txt', 'r') as file:\n",
    "    algo_arn = file.read().rstrip()\n",
    "# algo_arn"
   ]
  },
  {
   "cell_type": "markdown",
   "metadata": {},
   "source": [
    "## 2. Prepare dataset"
   ]
  },
  {
   "cell_type": "code",
   "execution_count": 2,
   "metadata": {
    "tags": []
   },
   "outputs": [],
   "source": [
    "import sagemaker as sage\n",
    "from sagemaker import get_execution_role\n",
    "import pandas as pd\n",
    "import json"
   ]
  },
  {
   "cell_type": "markdown",
   "metadata": {},
   "source": [
    "### A. Dataset format expected by the algorithm"
   ]
  },
  {
   "cell_type": "markdown",
   "metadata": {},
   "source": [
    "To fully demonstrate the capabilities of NannyML's performance estimation we will provide code for all 3 supported machine learning problem types.\n",
    "\n",
    "- For Binary Classification we are going to use [NannyML's synthetic car loan dataset](https://nannyml.readthedocs.io/en/stable/datasets/binary_car_loan.html).\n",
    "- For Multiclass Classification we are going to use [NannyML's synthetic multiclass creadit card assignment dataset](https://nannyml.readthedocs.io/en/stable/datasets/multiclass.html).\n",
    "- For Regression we are going to use [NannyML's synthetic car price dataset](https://nannyml.readthedocs.io/en/stable/datasets/regression.html).\n",
    "\n",
    "\n",
    "You can find some information about dataset format in **Usage Information** section of [Model Performance Estimation - NannyML](https://aws.amazon.com/marketplace/pp/prodview-uotyt66szg34o).\n",
    "<br>\n",
    "More detailed information can be found in [NannyML's Data Requirements Documentation](https://nannyml.readthedocs.io/en/stable/tutorials/data_requirements.html).\n",
    "\n",
    "<font color='red'>Edit code below as appropriate for the Machine Learning problem type you are interested in:<font>"
   ]
  },
  {
   "cell_type": "code",
   "execution_count": 3,
   "metadata": {
    "tags": []
   },
   "outputs": [],
   "source": [
    "machine_learning_problem_type = \"Binary Classification\"\n",
    "# machine_learning_problem_type = \"Multiclass Classification\"\n",
    "# machine_learning_problem_type = \"Regression\""
   ]
  },
  {
   "cell_type": "markdown",
   "metadata": {},
   "source": [
    "### B. Configure and visualize reference dataset"
   ]
  },
  {
   "cell_type": "code",
   "execution_count": 4,
   "metadata": {
    "tags": []
   },
   "outputs": [
    {
     "data": {
      "text/html": [
       "<div>\n",
       "<style scoped>\n",
       "    .dataframe tbody tr th:only-of-type {\n",
       "        vertical-align: middle;\n",
       "    }\n",
       "\n",
       "    .dataframe tbody tr th {\n",
       "        vertical-align: top;\n",
       "    }\n",
       "\n",
       "    .dataframe thead th {\n",
       "        text-align: right;\n",
       "    }\n",
       "</style>\n",
       "<table border=\"1\" class=\"dataframe\">\n",
       "  <thead>\n",
       "    <tr style=\"text-align: right;\">\n",
       "      <th></th>\n",
       "      <th>car_value</th>\n",
       "      <th>salary_range</th>\n",
       "      <th>debt_to_income_ratio</th>\n",
       "      <th>loan_length</th>\n",
       "      <th>repaid_loan_on_prev_car</th>\n",
       "      <th>size_of_downpayment</th>\n",
       "      <th>driver_tenure</th>\n",
       "      <th>repaid</th>\n",
       "      <th>timestamp</th>\n",
       "      <th>y_pred_proba</th>\n",
       "      <th>y_pred</th>\n",
       "    </tr>\n",
       "  </thead>\n",
       "  <tbody>\n",
       "    <tr>\n",
       "      <th>0</th>\n",
       "      <td>39811.0</td>\n",
       "      <td>40K - 60K €</td>\n",
       "      <td>0.632950</td>\n",
       "      <td>19.0</td>\n",
       "      <td>False</td>\n",
       "      <td>40%</td>\n",
       "      <td>0.212653</td>\n",
       "      <td>1.0</td>\n",
       "      <td>2018-01-01 00:00:00.000</td>\n",
       "      <td>0.99</td>\n",
       "      <td>1</td>\n",
       "    </tr>\n",
       "    <tr>\n",
       "      <th>1</th>\n",
       "      <td>12679.0</td>\n",
       "      <td>40K - 60K €</td>\n",
       "      <td>0.718627</td>\n",
       "      <td>7.0</td>\n",
       "      <td>True</td>\n",
       "      <td>10%</td>\n",
       "      <td>4.927549</td>\n",
       "      <td>0.0</td>\n",
       "      <td>2018-01-01 00:08:43.152</td>\n",
       "      <td>0.07</td>\n",
       "      <td>0</td>\n",
       "    </tr>\n",
       "    <tr>\n",
       "      <th>2</th>\n",
       "      <td>19847.0</td>\n",
       "      <td>40K - 60K €</td>\n",
       "      <td>0.721724</td>\n",
       "      <td>17.0</td>\n",
       "      <td>False</td>\n",
       "      <td>0%</td>\n",
       "      <td>0.520817</td>\n",
       "      <td>1.0</td>\n",
       "      <td>2018-01-01 00:17:26.304</td>\n",
       "      <td>1.00</td>\n",
       "      <td>1</td>\n",
       "    </tr>\n",
       "    <tr>\n",
       "      <th>3</th>\n",
       "      <td>22652.0</td>\n",
       "      <td>20K - 20K €</td>\n",
       "      <td>0.705992</td>\n",
       "      <td>16.0</td>\n",
       "      <td>False</td>\n",
       "      <td>10%</td>\n",
       "      <td>0.453649</td>\n",
       "      <td>1.0</td>\n",
       "      <td>2018-01-01 00:26:09.456</td>\n",
       "      <td>0.98</td>\n",
       "      <td>1</td>\n",
       "    </tr>\n",
       "    <tr>\n",
       "      <th>4</th>\n",
       "      <td>21268.0</td>\n",
       "      <td>60K+ €</td>\n",
       "      <td>0.671888</td>\n",
       "      <td>21.0</td>\n",
       "      <td>True</td>\n",
       "      <td>30%</td>\n",
       "      <td>5.695263</td>\n",
       "      <td>1.0</td>\n",
       "      <td>2018-01-01 00:34:52.608</td>\n",
       "      <td>0.99</td>\n",
       "      <td>1</td>\n",
       "    </tr>\n",
       "  </tbody>\n",
       "</table>\n",
       "</div>"
      ],
      "text/plain": [
       "   car_value salary_range  debt_to_income_ratio  loan_length   \n",
       "0    39811.0  40K - 60K €              0.632950         19.0  \\\n",
       "1    12679.0  40K - 60K €              0.718627          7.0   \n",
       "2    19847.0  40K - 60K €              0.721724         17.0   \n",
       "3    22652.0  20K - 20K €              0.705992         16.0   \n",
       "4    21268.0       60K+ €              0.671888         21.0   \n",
       "\n",
       "   repaid_loan_on_prev_car size_of_downpayment  driver_tenure  repaid   \n",
       "0                    False                 40%       0.212653     1.0  \\\n",
       "1                     True                 10%       4.927549     0.0   \n",
       "2                    False                  0%       0.520817     1.0   \n",
       "3                    False                 10%       0.453649     1.0   \n",
       "4                     True                 30%       5.695263     1.0   \n",
       "\n",
       "                 timestamp  y_pred_proba  y_pred  \n",
       "0  2018-01-01 00:00:00.000          0.99       1  \n",
       "1  2018-01-01 00:08:43.152          0.07       0  \n",
       "2  2018-01-01 00:17:26.304          1.00       1  \n",
       "3  2018-01-01 00:26:09.456          0.98       1  \n",
       "4  2018-01-01 00:34:52.608          0.99       1  "
      ]
     },
     "execution_count": 4,
     "metadata": {},
     "output_type": "execute_result"
    }
   ],
   "source": [
    "if machine_learning_problem_type == \"Binary Classification\":\n",
    "    reference_dataset = \"data/bc_reference.csv\"\n",
    "elif machine_learning_problem_type == \"Multiclass Classification\":\n",
    "    reference_dataset = \"data/mc_reference.csv\"\n",
    "elif machine_learning_problem_type == \"Regression\":\n",
    "    reference_dataset = \"data/reg_reference.csv\"\n",
    "else:\n",
    "    raise ValueError(\"Unsupported Machine Learning Problem Type.\")\n",
    "\n",
    "# Show selected dataset\n",
    "pd.read_csv(reference_dataset).head()"
   ]
  },
  {
   "cell_type": "markdown",
   "metadata": {},
   "source": [
    "### C. Upload datasets to Amazon S3"
   ]
  },
  {
   "cell_type": "code",
   "execution_count": 5,
   "metadata": {
    "tags": []
   },
   "outputs": [],
   "source": [
    "sagemaker_session = sage.Session()\n",
    "bucket = sagemaker_session.default_bucket()\n",
    "# bucket"
   ]
  },
  {
   "cell_type": "code",
   "execution_count": 6,
   "metadata": {
    "tags": []
   },
   "outputs": [],
   "source": [
    "demo_prefix = \"doc-notebook-demo\""
   ]
  },
  {
   "cell_type": "code",
   "execution_count": 7,
   "metadata": {
    "tags": []
   },
   "outputs": [],
   "source": [
    "reference_data = sagemaker_session.upload_data(\n",
    "    reference_dataset, bucket=bucket, key_prefix=demo_prefix\n",
    ")"
   ]
  },
  {
   "cell_type": "markdown",
   "metadata": {},
   "source": [
    "## 3: Train a machine learning model"
   ]
  },
  {
   "cell_type": "markdown",
   "metadata": {},
   "source": [
    "Now that dataset is available in an accessible Amazon S3 bucket, we are ready to train a machine learning model. "
   ]
  },
  {
   "cell_type": "markdown",
   "metadata": {},
   "source": [
    "### 3.1 Set up environment"
   ]
  },
  {
   "cell_type": "code",
   "execution_count": 8,
   "metadata": {
    "tags": []
   },
   "outputs": [],
   "source": [
    "role = get_execution_role()"
   ]
  },
  {
   "cell_type": "code",
   "execution_count": 9,
   "metadata": {
    "tags": []
   },
   "outputs": [],
   "source": [
    "output_location = f\"s3://{bucket}/{demo_prefix}/output\"\n",
    "# output_location"
   ]
  },
  {
   "cell_type": "markdown",
   "metadata": {},
   "source": [
    "### 3.2 Train a model"
   ]
  },
  {
   "cell_type": "markdown",
   "metadata": {},
   "source": [
    "You can also find more information about dataset format in **Hyperparameters** section of [Model Performance Estimation - NannyML](https://aws.amazon.com/marketplace/pp/prodview-uotyt66szg34o).\n",
    "\n",
    "For even more detailed information you read NannyML tutorials on performance estimation for:\n",
    "- [Binary Classification](https://nannyml.readthedocs.io/en/stable/tutorials/performance_estimation/binary_performance_estimation.html)\n",
    "- [Multiclass Classification](https://nannyml.readthedocs.io/en/stable/tutorials/performance_estimation/multiclass_performance_estimation.html)\n",
    "- [Regression](https://nannyml.readthedocs.io/en/stable/tutorials/performance_estimation/regression_performance_estimation.html)"
   ]
  },
  {
   "cell_type": "code",
   "execution_count": 16,
   "metadata": {
    "tags": []
   },
   "outputs": [],
   "source": [
    "# Define hyperparameters\n",
    "if machine_learning_problem_type == \"Binary Classification\":\n",
    "    nannyml_parameters = {\n",
    "        \"y_pred_proba\": \"y_pred_proba\",\n",
    "        \"y_pred\": \"y_pred\",\n",
    "        \"y_true\": \"repaid\",\n",
    "        \"timestamp_column_name\": \"timestamp\",\n",
    "        \"metrics\": [\"roc_auc\"],\n",
    "        \"chunk_size\": 5000,\n",
    "        \"problem_type\": \"classification_binary\",\n",
    "    }\n",
    "    # json.dumps needed due to sagemaker specifications\n",
    "    sagemaker_hyperparameters = {\n",
    "        \"data_filename\": reference_dataset.split(\"/\")[-1],\n",
    "        \"data_type\": \"csv\",\n",
    "        \"problem_type\": \"classification_binary\",\n",
    "        \"parameters\": json.dumps(nannyml_parameters),\n",
    "    }\n",
    "elif machine_learning_problem_type == \"Multiclass Classification\":\n",
    "    nannyml_parameters = {\n",
    "        \"y_pred\": \"y_pred\",\n",
    "        \"y_pred_proba\": {\n",
    "            \"prepaid_card\": \"y_pred_proba_prepaid_card\",\n",
    "            \"highstreet_card\": \"y_pred_proba_highstreet_card\",\n",
    "            \"upmarket_card\": \"y_pred_proba_upmarket_card\"\n",
    "        },\n",
    "        \"y_true\": \"y_true\",\n",
    "        \"timestamp_column_name\": \"timestamp\",\n",
    "        \"metrics\": [\"roc_auc\"],\n",
    "        \"chunk_size\": 5000,\n",
    "        \"problem_type\": \"classification_multiclass\",\n",
    "    }\n",
    "    # json.dumps needed due to sagemaker specifications\n",
    "    sagemaker_hyperparams = {\n",
    "        \"data_filename\": \"mc_reference.csv\",\n",
    "        \"data_type\": \"csv\",\n",
    "        \"problem_type\": \"classification_multiclass\",\n",
    "        \"parameters\": json.dumps(nannyml_parameters),\n",
    "    }\n",
    "elif machine_learning_problem_type == \"Regression\":\n",
    "    nannyml_parameters = {\n",
    "        \"feature_column_names\": [\n",
    "            \"car_age\",\n",
    "            \"km_driven\",\n",
    "            \"price_new\",\n",
    "            \"accident_count\",\n",
    "            \"door_count\",\n",
    "            \"fuel\",\n",
    "            \"transmission\",\n",
    "        ],\n",
    "        \"y_pred\": \"y_pred\",\n",
    "        \"y_true\": \"y_true\",\n",
    "        \"timestamp_column_name\": \"timestamp\",\n",
    "        \"metrics\": [\"rmse\"],\n",
    "        \"chunk_size\": 6000,\n",
    "        \"tune_hyperparameters\": False,\n",
    "    }\n",
    "    # json.dumps needed due to sagemaker specifications\n",
    "    sagemaker_hyperparams = {\n",
    "        \"data_filename\": reference_dataset.split(\"/\")[-1],\n",
    "        \"data_type\": \"csv\",\n",
    "        \"problem_type\": \"regression\",\n",
    "        \"parameters\": json.dumps(nannyml_parameters),\n",
    "    }\n",
    "else:\n",
    "    raise ValueError(\"Unsupported Machine Learning Problem Type.\")"
   ]
  },
  {
   "cell_type": "markdown",
   "metadata": {},
   "source": [
    "For information on creating an `Estimator` object, see [documentation](https://sagemaker.readthedocs.io/en/stable/api/training/estimators.html)"
   ]
  },
  {
   "cell_type": "code",
   "execution_count": 17,
   "metadata": {
    "tags": []
   },
   "outputs": [],
   "source": [
    "# Create an estimator object for running a training job\n",
    "estimator = sage.algorithm.AlgorithmEstimator(\n",
    "    algorithm_arn=algo_arn,\n",
    "    base_job_name='nml-perf-est',\n",
    "    role=role,\n",
    "    instance_count=1,\n",
    "    instance_type='ml.m5.large',\n",
    "    input_mode=\"File\",\n",
    "    output_path=output_location,\n",
    "    sagemaker_session=sagemaker_session,\n",
    "    hyperparameters=sagemaker_hyperparameters,\n",
    ")"
   ]
  },
  {
   "cell_type": "code",
   "execution_count": 18,
   "metadata": {
    "tags": []
   },
   "outputs": [
    {
     "name": "stderr",
     "output_type": "stream",
     "text": [
      "INFO:sagemaker:Creating training-job with name: nml-perf-est-2023-08-18-15-32-25-195\n"
     ]
    },
    {
     "name": "stdout",
     "output_type": "stream",
     "text": [
      "2023-08-18 15:32:25 Starting - Starting the training job...\n",
      "2023-08-18 15:32:42 Starting - Preparing the instances for training......\n",
      "2023-08-18 15:33:55 Downloading - Downloading input data\n",
      "2023-08-18 15:33:55 Training - Downloading the training image......\n",
      "2023-08-18 15:34:56 Uploading - Uploading generated training model.\u001b[34mINFO:nannyml:Logger object created.\u001b[0m\n",
      "\u001b[34mINFO:nannyml:Hyperparameters read.\u001b[0m\n",
      "\u001b[34mINFO:nannyml:Estimator Instantiated.\u001b[0m\n",
      "\u001b[34mINFO:nannyml:Loaded data.\u001b[0m\n",
      "\u001b[34mINFO:nannyml.base:fitting nannyml.performance_estimation.confidence_based.cbpe.CBPE\u001b[0m\n",
      "\u001b[34mDEBUG:nannyml.usage_logging:found NML_DISABLE_USAGE_LOGGING key in environment variables. Usage event CBPE estimator run not logged.\u001b[0m\n",
      "\u001b[34mDEBUG:nannyml.usage_logging:found NML_DISABLE_USAGE_LOGGING key in environment variables. Usage event CBPE estimator fit not logged.\u001b[0m\n",
      "\u001b[34mINFO:nannyml:Estimator fit.\u001b[0m\n",
      "\u001b[34mINFO:nannyml.io.store.base:storing object \"nannyml.performance_estimation.confidence_based.cbpe.CBPE\" to store \"nannyml.io.store.file_store.FilesystemStore\"\u001b[0m\n",
      "\u001b[34mDEBUG:fsspec.local:open file: /opt/ml/model/estimator.pkl\u001b[0m\n",
      "\u001b[34mDEBUG:nannyml.io.store.serializers:serializing object nannyml.performance_estimation.confidence_based.cbpe.CBPE\u001b[0m\n",
      "\u001b[34mINFO:nannyml:Estimator Stored!\u001b[0m\n",
      "\n",
      "2023-08-18 15:35:12 Completed - Training job completed\n",
      "Training seconds: 102\n",
      "Billable seconds: 102\n"
     ]
    }
   ],
   "source": [
    "# Run the training job.\n",
    "estimator.fit(\n",
    "    {'training': reference_data}\n",
    ")"
   ]
  },
  {
   "cell_type": "markdown",
   "metadata": {},
   "source": [
    "See this [blog-post](https://aws.amazon.com/blogs/machine-learning/easily-monitor-and-visualize-metrics-while-training-models-on-amazon-sagemaker/) for more information how to visualize metrics during the process. You can also open the training job from [Amazon SageMaker console](https://console.aws.amazon.com/sagemaker/home?#/jobs/) and monitor the metrics/logs in **Monitor** section."
   ]
  },
  {
   "cell_type": "markdown",
   "metadata": {},
   "source": [
    "## 4: Deploy model"
   ]
  },
  {
   "cell_type": "markdown",
   "metadata": {},
   "source": [
    "**NannyML's Performance Estimation is not designed for real time inference, therefore it is not recommended to use it in this way.**\n",
    "\n",
    "For this reason we are not showcasing the real-time inference feature of Sagemaker Algorithm."
   ]
  },
  {
   "cell_type": "markdown",
   "metadata": {},
   "source": [
    "## 5. Perform Batch inference"
   ]
  },
  {
   "cell_type": "markdown",
   "metadata": {},
   "source": [
    "In this section, you will perform batch inference using multiple input payloads together."
   ]
  },
  {
   "cell_type": "code",
   "execution_count": 20,
   "metadata": {
    "tags": []
   },
   "outputs": [],
   "source": [
    "# upload the batch-transform job input files to S3\n",
    "\n",
    "if machine_learning_problem_type == \"Binary Classification\":\n",
    "    inference_dataset = \"data/bc_analysis.csv\"\n",
    "elif machine_learning_problem_type == \"Multiclass Classification\":\n",
    "    inference_dataset = \"data/mc_analysis.csv\"\n",
    "elif machine_learning_problem_type == \"Regression\":\n",
    "    inference_dataset = \"data/reg_analysis.csv\"\n",
    "else:\n",
    "    raise ValueError(\"Unsupported Machine Learning Problem Type.\")\n",
    "\n",
    "inference_data = sagemaker_session.upload_data(inference_dataset, bucket=bucket, key_prefix=demo_prefix)\n",
    "# print(\"Transform input uploaded to \" + inference_data)"
   ]
  },
  {
   "cell_type": "code",
   "execution_count": 22,
   "metadata": {
    "tags": []
   },
   "outputs": [
    {
     "name": "stderr",
     "output_type": "stream",
     "text": [
      "INFO:sagemaker:Creating model package with name: nannyml-performance-estimation-1350cd6b-2023-08-18-15-51-26-673\n"
     ]
    },
    {
     "name": "stdout",
     "output_type": "stream",
     "text": [
      "........."
     ]
    },
    {
     "name": "stderr",
     "output_type": "stream",
     "text": [
      "INFO:sagemaker:Creating model with name: nannyml-performance-estimation-1350cd6b-2023-08-18-15-52-12-259\n"
     ]
    },
    {
     "name": "stdout",
     "output_type": "stream",
     "text": [
      "\n"
     ]
    },
    {
     "name": "stderr",
     "output_type": "stream",
     "text": [
      "INFO:sagemaker:Creating transform job with name: nml-perf-est-2023-08-18-15-52-15-502\n"
     ]
    },
    {
     "name": "stdout",
     "output_type": "stream",
     "text": [
      "..........................\u001b[34m * Serving Flask app '/web_app_serve.py'\n",
      " * Debug mode: off\u001b[0m\n",
      "\u001b[34m#033[31m#033[1mWARNING: This is a development server. Do not use it in a production deployment. Use a production WSGI server instead.#033[0m\n",
      " * Running on all addresses (0.0.0.0)\n",
      " * Running on http://127.0.0.1:8080\n",
      " * Running on http://127.0.0.1:8080\u001b[0m\n",
      "\u001b[34m#033[33mPress CTRL+C to quit#033[0m\u001b[0m\n",
      "\u001b[34m169.254.255.130 - - [18/Aug/2023 15:56:42] \"GET /ping HTTP/1.1\" 200 -\u001b[0m\n",
      "\u001b[34m169.254.255.130 - - [18/Aug/2023 15:56:42] \"#033[33mGET /execution-parameters HTTP/1.1#033[0m\" 404 -\u001b[0m\n",
      "\u001b[34mReceived POST invocation request.\u001b[0m\n",
      "\u001b[34mEstimation invoked with 50000 rows\u001b[0m\n",
      "\u001b[34mEstimation invoked with columns: ['car_value', 'salary_range', 'debt_to_income_ratio', 'loan_length', 'repaid_loan_on_prev_car', 'size_of_downpayment', 'driver_tenure', 'timestamp', 'y_pred_proba', 'y_pred']\u001b[0m\n",
      "\u001b[34m169.254.255.130 - - [18/Aug/2023 15:56:43] \"POST /invocations HTTP/1.1\" 200 -\u001b[0m\n",
      "\n",
      "\u001b[32m2023-08-18T15:56:42.090:[sagemaker logs]: MaxConcurrentTransforms=1, MaxPayloadInMB=6, BatchStrategy=MULTI_RECORD\u001b[0m\n",
      "\u001b[34m * Serving Flask app '/web_app_serve.py'\n",
      " * Debug mode: off\u001b[0m\n",
      "\u001b[35m * Serving Flask app '/web_app_serve.py'\n",
      " * Debug mode: off\u001b[0m\n",
      "\u001b[34m#033[31m#033[1mWARNING: This is a development server. Do not use it in a production deployment. Use a production WSGI server instead.#033[0m\n",
      " * Running on all addresses (0.0.0.0)\n",
      " * Running on http://127.0.0.1:8080\n",
      " * Running on http://127.0.0.1:8080\u001b[0m\n",
      "\u001b[34m#033[33mPress CTRL+C to quit#033[0m\u001b[0m\n",
      "\u001b[35m#033[31m#033[1mWARNING: This is a development server. Do not use it in a production deployment. Use a production WSGI server instead.#033[0m\n",
      " * Running on all addresses (0.0.0.0)\n",
      " * Running on http://127.0.0.1:8080\n",
      " * Running on http://127.0.0.1:8080\u001b[0m\n",
      "\u001b[35m#033[33mPress CTRL+C to quit#033[0m\u001b[0m\n",
      "\u001b[34m169.254.255.130 - - [18/Aug/2023 15:56:42] \"GET /ping HTTP/1.1\" 200 -\u001b[0m\n",
      "\u001b[34m169.254.255.130 - - [18/Aug/2023 15:56:42] \"#033[33mGET /execution-parameters HTTP/1.1#033[0m\" 404 -\u001b[0m\n",
      "\u001b[35m169.254.255.130 - - [18/Aug/2023 15:56:42] \"GET /ping HTTP/1.1\" 200 -\u001b[0m\n",
      "\u001b[35m169.254.255.130 - - [18/Aug/2023 15:56:42] \"#033[33mGET /execution-parameters HTTP/1.1#033[0m\" 404 -\u001b[0m\n",
      "\u001b[34mReceived POST invocation request.\u001b[0m\n",
      "\u001b[35mReceived POST invocation request.\u001b[0m\n",
      "\u001b[34mEstimation invoked with 50000 rows\u001b[0m\n",
      "\u001b[34mEstimation invoked with columns: ['car_value', 'salary_range', 'debt_to_income_ratio', 'loan_length', 'repaid_loan_on_prev_car', 'size_of_downpayment', 'driver_tenure', 'timestamp', 'y_pred_proba', 'y_pred']\u001b[0m\n",
      "\u001b[34m169.254.255.130 - - [18/Aug/2023 15:56:43] \"POST /invocations HTTP/1.1\" 200 -\u001b[0m\n",
      "\u001b[35mEstimation invoked with 50000 rows\u001b[0m\n",
      "\u001b[35mEstimation invoked with columns: ['car_value', 'salary_range', 'debt_to_income_ratio', 'loan_length', 'repaid_loan_on_prev_car', 'size_of_downpayment', 'driver_tenure', 'timestamp', 'y_pred_proba', 'y_pred']\u001b[0m\n",
      "\u001b[35m169.254.255.130 - - [18/Aug/2023 15:56:43] \"POST /invocations HTTP/1.1\" 200 -\u001b[0m\n",
      "\u001b[32m2023-08-18T15:56:42.090:[sagemaker logs]: MaxConcurrentTransforms=1, MaxPayloadInMB=6, BatchStrategy=MULTI_RECORD\u001b[0m\n"
     ]
    }
   ],
   "source": [
    "# Run the batch-transform job\n",
    "transformer = estimator.transformer(\n",
    "    instance_count=1,\n",
    "    instance_type=\"ml.m5.large\",\n",
    "    output_path=output_location\n",
    ")\n",
    "transformer.transform(inference_data, content_type=\"text/csv\")\n",
    "transformer.wait()"
   ]
  },
  {
   "cell_type": "code",
   "execution_count": 30,
   "metadata": {
    "tags": []
   },
   "outputs": [
    {
     "data": {
      "text/plain": [
       "'s3://sagemaker-eu-central-1-684294718906/nml-perf-est-2023-08-18-15-52-15-502'"
      ]
     },
     "execution_count": 30,
     "metadata": {},
     "output_type": "execute_result"
    }
   ],
   "source": [
    "# output is available on following path\n",
    "transformer.output_path#.split(\"/\")#[-1]"
   ]
  },
  {
   "cell_type": "markdown",
   "metadata": {},
   "source": [
    "**View Results of Performance Estimation**"
   ]
  },
  {
   "cell_type": "code",
   "execution_count": 36,
   "metadata": {
    "tags": []
   },
   "outputs": [
    {
     "data": {
      "text/html": [
       "<div>\n",
       "<style scoped>\n",
       "    .dataframe tbody tr th:only-of-type {\n",
       "        vertical-align: middle;\n",
       "    }\n",
       "\n",
       "    .dataframe tbody tr th {\n",
       "        vertical-align: top;\n",
       "    }\n",
       "\n",
       "    .dataframe thead tr th {\n",
       "        text-align: left;\n",
       "    }\n",
       "</style>\n",
       "<table border=\"1\" class=\"dataframe\">\n",
       "  <thead>\n",
       "    <tr>\n",
       "      <th></th>\n",
       "      <th colspan=\"7\" halign=\"left\">chunk</th>\n",
       "      <th colspan=\"8\" halign=\"left\">roc_auc</th>\n",
       "    </tr>\n",
       "    <tr>\n",
       "      <th></th>\n",
       "      <th>key</th>\n",
       "      <th>chunk_index</th>\n",
       "      <th>start_index</th>\n",
       "      <th>end_index</th>\n",
       "      <th>start_date</th>\n",
       "      <th>end_date</th>\n",
       "      <th>period</th>\n",
       "      <th>value</th>\n",
       "      <th>sampling_error</th>\n",
       "      <th>realized</th>\n",
       "      <th>upper_confidence_boundary</th>\n",
       "      <th>lower_confidence_boundary</th>\n",
       "      <th>upper_threshold</th>\n",
       "      <th>lower_threshold</th>\n",
       "      <th>alert</th>\n",
       "    </tr>\n",
       "  </thead>\n",
       "  <tbody>\n",
       "    <tr>\n",
       "      <th>0</th>\n",
       "      <td>[0:4999]</td>\n",
       "      <td>0</td>\n",
       "      <td>0</td>\n",
       "      <td>4999</td>\n",
       "      <td>2018-01-01 00:00:00</td>\n",
       "      <td>2018-01-31 06:27:16.848</td>\n",
       "      <td>reference</td>\n",
       "      <td>0.971219</td>\n",
       "      <td>0.001811</td>\n",
       "      <td>0.976253</td>\n",
       "      <td>0.976652</td>\n",
       "      <td>0.965787</td>\n",
       "      <td>0.97866</td>\n",
       "      <td>0.963317</td>\n",
       "      <td>False</td>\n",
       "    </tr>\n",
       "    <tr>\n",
       "      <th>1</th>\n",
       "      <td>[5000:9999]</td>\n",
       "      <td>1</td>\n",
       "      <td>5000</td>\n",
       "      <td>9999</td>\n",
       "      <td>2018-01-31 06:36:00</td>\n",
       "      <td>2018-03-02 13:03:16.848</td>\n",
       "      <td>reference</td>\n",
       "      <td>0.971052</td>\n",
       "      <td>0.001811</td>\n",
       "      <td>0.969045</td>\n",
       "      <td>0.976484</td>\n",
       "      <td>0.965620</td>\n",
       "      <td>0.97866</td>\n",
       "      <td>0.963317</td>\n",
       "      <td>False</td>\n",
       "    </tr>\n",
       "    <tr>\n",
       "      <th>2</th>\n",
       "      <td>[10000:14999]</td>\n",
       "      <td>2</td>\n",
       "      <td>10000</td>\n",
       "      <td>14999</td>\n",
       "      <td>2018-03-02 13:12:00</td>\n",
       "      <td>2018-04-01 19:39:16.848</td>\n",
       "      <td>reference</td>\n",
       "      <td>0.970985</td>\n",
       "      <td>0.001811</td>\n",
       "      <td>0.971742</td>\n",
       "      <td>0.976417</td>\n",
       "      <td>0.965553</td>\n",
       "      <td>0.97866</td>\n",
       "      <td>0.963317</td>\n",
       "      <td>False</td>\n",
       "    </tr>\n",
       "    <tr>\n",
       "      <th>3</th>\n",
       "      <td>[15000:19999]</td>\n",
       "      <td>3</td>\n",
       "      <td>15000</td>\n",
       "      <td>19999</td>\n",
       "      <td>2018-04-01 19:48:00</td>\n",
       "      <td>2018-05-02 02:15:16.848</td>\n",
       "      <td>reference</td>\n",
       "      <td>0.971196</td>\n",
       "      <td>0.001811</td>\n",
       "      <td>0.971642</td>\n",
       "      <td>0.976628</td>\n",
       "      <td>0.965764</td>\n",
       "      <td>0.97866</td>\n",
       "      <td>0.963317</td>\n",
       "      <td>False</td>\n",
       "    </tr>\n",
       "    <tr>\n",
       "      <th>4</th>\n",
       "      <td>[20000:24999]</td>\n",
       "      <td>4</td>\n",
       "      <td>20000</td>\n",
       "      <td>24999</td>\n",
       "      <td>2018-05-02 02:24:00</td>\n",
       "      <td>2018-06-01 08:51:16.848</td>\n",
       "      <td>reference</td>\n",
       "      <td>0.971054</td>\n",
       "      <td>0.001811</td>\n",
       "      <td>0.969085</td>\n",
       "      <td>0.976487</td>\n",
       "      <td>0.965622</td>\n",
       "      <td>0.97866</td>\n",
       "      <td>0.963317</td>\n",
       "      <td>False</td>\n",
       "    </tr>\n",
       "    <tr>\n",
       "      <th>5</th>\n",
       "      <td>[25000:29999]</td>\n",
       "      <td>5</td>\n",
       "      <td>25000</td>\n",
       "      <td>29999</td>\n",
       "      <td>2018-06-01 09:00:00</td>\n",
       "      <td>2018-07-01 15:27:16.848</td>\n",
       "      <td>reference</td>\n",
       "      <td>0.971065</td>\n",
       "      <td>0.001811</td>\n",
       "      <td>0.967364</td>\n",
       "      <td>0.976497</td>\n",
       "      <td>0.965633</td>\n",
       "      <td>0.97866</td>\n",
       "      <td>0.963317</td>\n",
       "      <td>False</td>\n",
       "    </tr>\n",
       "    <tr>\n",
       "      <th>6</th>\n",
       "      <td>[30000:34999]</td>\n",
       "      <td>6</td>\n",
       "      <td>30000</td>\n",
       "      <td>34999</td>\n",
       "      <td>2018-07-01 15:36:00</td>\n",
       "      <td>2018-07-31 22:03:16.848</td>\n",
       "      <td>reference</td>\n",
       "      <td>0.970880</td>\n",
       "      <td>0.001811</td>\n",
       "      <td>0.968692</td>\n",
       "      <td>0.976312</td>\n",
       "      <td>0.965448</td>\n",
       "      <td>0.97866</td>\n",
       "      <td>0.963317</td>\n",
       "      <td>False</td>\n",
       "    </tr>\n",
       "    <tr>\n",
       "      <th>7</th>\n",
       "      <td>[35000:39999]</td>\n",
       "      <td>7</td>\n",
       "      <td>35000</td>\n",
       "      <td>39999</td>\n",
       "      <td>2018-07-31 22:12:00</td>\n",
       "      <td>2018-08-31 04:39:16.848</td>\n",
       "      <td>reference</td>\n",
       "      <td>0.971173</td>\n",
       "      <td>0.001811</td>\n",
       "      <td>0.970205</td>\n",
       "      <td>0.976605</td>\n",
       "      <td>0.965741</td>\n",
       "      <td>0.97866</td>\n",
       "      <td>0.963317</td>\n",
       "      <td>False</td>\n",
       "    </tr>\n",
       "    <tr>\n",
       "      <th>8</th>\n",
       "      <td>[40000:44999]</td>\n",
       "      <td>8</td>\n",
       "      <td>40000</td>\n",
       "      <td>44999</td>\n",
       "      <td>2018-08-31 04:48:00</td>\n",
       "      <td>2018-09-30 11:15:16.848</td>\n",
       "      <td>reference</td>\n",
       "      <td>0.971319</td>\n",
       "      <td>0.001811</td>\n",
       "      <td>0.974096</td>\n",
       "      <td>0.976752</td>\n",
       "      <td>0.965887</td>\n",
       "      <td>0.97866</td>\n",
       "      <td>0.963317</td>\n",
       "      <td>False</td>\n",
       "    </tr>\n",
       "    <tr>\n",
       "      <th>9</th>\n",
       "      <td>[45000:49999]</td>\n",
       "      <td>9</td>\n",
       "      <td>45000</td>\n",
       "      <td>49999</td>\n",
       "      <td>2018-09-30 11:24:00</td>\n",
       "      <td>2018-10-30 17:51:16.848</td>\n",
       "      <td>reference</td>\n",
       "      <td>0.971140</td>\n",
       "      <td>0.001811</td>\n",
       "      <td>0.971757</td>\n",
       "      <td>0.976572</td>\n",
       "      <td>0.965708</td>\n",
       "      <td>0.97866</td>\n",
       "      <td>0.963317</td>\n",
       "      <td>False</td>\n",
       "    </tr>\n",
       "    <tr>\n",
       "      <th>10</th>\n",
       "      <td>[0:4999]</td>\n",
       "      <td>0</td>\n",
       "      <td>0</td>\n",
       "      <td>4999</td>\n",
       "      <td>2018-10-30 18:00:00</td>\n",
       "      <td>2018-11-30 00:27:16.848</td>\n",
       "      <td>analysis</td>\n",
       "      <td>0.970755</td>\n",
       "      <td>0.001811</td>\n",
       "      <td>NaN</td>\n",
       "      <td>0.976187</td>\n",
       "      <td>0.965323</td>\n",
       "      <td>0.97866</td>\n",
       "      <td>0.963317</td>\n",
       "      <td>False</td>\n",
       "    </tr>\n",
       "    <tr>\n",
       "      <th>11</th>\n",
       "      <td>[5000:9999]</td>\n",
       "      <td>1</td>\n",
       "      <td>5000</td>\n",
       "      <td>9999</td>\n",
       "      <td>2018-11-30 00:36:00</td>\n",
       "      <td>2018-12-30 07:03:16.848</td>\n",
       "      <td>analysis</td>\n",
       "      <td>0.971022</td>\n",
       "      <td>0.001811</td>\n",
       "      <td>NaN</td>\n",
       "      <td>0.976455</td>\n",
       "      <td>0.965590</td>\n",
       "      <td>0.97866</td>\n",
       "      <td>0.963317</td>\n",
       "      <td>False</td>\n",
       "    </tr>\n",
       "    <tr>\n",
       "      <th>12</th>\n",
       "      <td>[10000:14999]</td>\n",
       "      <td>2</td>\n",
       "      <td>10000</td>\n",
       "      <td>14999</td>\n",
       "      <td>2018-12-30 07:12:00</td>\n",
       "      <td>2019-01-29 13:39:16.848</td>\n",
       "      <td>analysis</td>\n",
       "      <td>0.971418</td>\n",
       "      <td>0.001811</td>\n",
       "      <td>NaN</td>\n",
       "      <td>0.976851</td>\n",
       "      <td>0.965986</td>\n",
       "      <td>0.97866</td>\n",
       "      <td>0.963317</td>\n",
       "      <td>False</td>\n",
       "    </tr>\n",
       "    <tr>\n",
       "      <th>13</th>\n",
       "      <td>[15000:19999]</td>\n",
       "      <td>3</td>\n",
       "      <td>15000</td>\n",
       "      <td>19999</td>\n",
       "      <td>2019-01-29 13:48:00</td>\n",
       "      <td>2019-02-28 20:15:16.848</td>\n",
       "      <td>analysis</td>\n",
       "      <td>0.971103</td>\n",
       "      <td>0.001811</td>\n",
       "      <td>NaN</td>\n",
       "      <td>0.976535</td>\n",
       "      <td>0.965671</td>\n",
       "      <td>0.97866</td>\n",
       "      <td>0.963317</td>\n",
       "      <td>False</td>\n",
       "    </tr>\n",
       "    <tr>\n",
       "      <th>14</th>\n",
       "      <td>[20000:24999]</td>\n",
       "      <td>4</td>\n",
       "      <td>20000</td>\n",
       "      <td>24999</td>\n",
       "      <td>2019-02-28 20:24:00</td>\n",
       "      <td>2019-03-31 02:51:16.848</td>\n",
       "      <td>analysis</td>\n",
       "      <td>0.971135</td>\n",
       "      <td>0.001811</td>\n",
       "      <td>NaN</td>\n",
       "      <td>0.976567</td>\n",
       "      <td>0.965702</td>\n",
       "      <td>0.97866</td>\n",
       "      <td>0.963317</td>\n",
       "      <td>False</td>\n",
       "    </tr>\n",
       "    <tr>\n",
       "      <th>15</th>\n",
       "      <td>[25000:29999]</td>\n",
       "      <td>5</td>\n",
       "      <td>25000</td>\n",
       "      <td>29999</td>\n",
       "      <td>2019-03-31 03:00:00</td>\n",
       "      <td>2019-04-30 09:27:16.848</td>\n",
       "      <td>analysis</td>\n",
       "      <td>0.961105</td>\n",
       "      <td>0.001811</td>\n",
       "      <td>NaN</td>\n",
       "      <td>0.966537</td>\n",
       "      <td>0.955673</td>\n",
       "      <td>0.97866</td>\n",
       "      <td>0.963317</td>\n",
       "      <td>True</td>\n",
       "    </tr>\n",
       "    <tr>\n",
       "      <th>16</th>\n",
       "      <td>[30000:34999]</td>\n",
       "      <td>6</td>\n",
       "      <td>30000</td>\n",
       "      <td>34999</td>\n",
       "      <td>2019-04-30 09:36:00</td>\n",
       "      <td>2019-05-30 16:03:16.848</td>\n",
       "      <td>analysis</td>\n",
       "      <td>0.961839</td>\n",
       "      <td>0.001811</td>\n",
       "      <td>NaN</td>\n",
       "      <td>0.967272</td>\n",
       "      <td>0.956407</td>\n",
       "      <td>0.97866</td>\n",
       "      <td>0.963317</td>\n",
       "      <td>True</td>\n",
       "    </tr>\n",
       "    <tr>\n",
       "      <th>17</th>\n",
       "      <td>[35000:39999]</td>\n",
       "      <td>7</td>\n",
       "      <td>35000</td>\n",
       "      <td>39999</td>\n",
       "      <td>2019-05-30 16:12:00</td>\n",
       "      <td>2019-06-29 22:39:16.848</td>\n",
       "      <td>analysis</td>\n",
       "      <td>0.961088</td>\n",
       "      <td>0.001811</td>\n",
       "      <td>NaN</td>\n",
       "      <td>0.966521</td>\n",
       "      <td>0.955656</td>\n",
       "      <td>0.97866</td>\n",
       "      <td>0.963317</td>\n",
       "      <td>True</td>\n",
       "    </tr>\n",
       "    <tr>\n",
       "      <th>18</th>\n",
       "      <td>[40000:44999]</td>\n",
       "      <td>8</td>\n",
       "      <td>40000</td>\n",
       "      <td>44999</td>\n",
       "      <td>2019-06-29 22:48:00</td>\n",
       "      <td>2019-07-30 05:15:16.848</td>\n",
       "      <td>analysis</td>\n",
       "      <td>0.962548</td>\n",
       "      <td>0.001811</td>\n",
       "      <td>NaN</td>\n",
       "      <td>0.967980</td>\n",
       "      <td>0.957116</td>\n",
       "      <td>0.97866</td>\n",
       "      <td>0.963317</td>\n",
       "      <td>True</td>\n",
       "    </tr>\n",
       "    <tr>\n",
       "      <th>19</th>\n",
       "      <td>[45000:49999]</td>\n",
       "      <td>9</td>\n",
       "      <td>45000</td>\n",
       "      <td>49999</td>\n",
       "      <td>2019-07-30 05:24:00</td>\n",
       "      <td>2019-08-29 11:51:16.848</td>\n",
       "      <td>analysis</td>\n",
       "      <td>0.961331</td>\n",
       "      <td>0.001811</td>\n",
       "      <td>NaN</td>\n",
       "      <td>0.966763</td>\n",
       "      <td>0.955899</td>\n",
       "      <td>0.97866</td>\n",
       "      <td>0.963317</td>\n",
       "      <td>True</td>\n",
       "    </tr>\n",
       "  </tbody>\n",
       "</table>\n",
       "</div>"
      ],
      "text/plain": [
       "            chunk                                                          \n",
       "              key chunk_index start_index end_index           start_date   \n",
       "0        [0:4999]           0           0      4999  2018-01-01 00:00:00  \\\n",
       "1     [5000:9999]           1        5000      9999  2018-01-31 06:36:00   \n",
       "2   [10000:14999]           2       10000     14999  2018-03-02 13:12:00   \n",
       "3   [15000:19999]           3       15000     19999  2018-04-01 19:48:00   \n",
       "4   [20000:24999]           4       20000     24999  2018-05-02 02:24:00   \n",
       "5   [25000:29999]           5       25000     29999  2018-06-01 09:00:00   \n",
       "6   [30000:34999]           6       30000     34999  2018-07-01 15:36:00   \n",
       "7   [35000:39999]           7       35000     39999  2018-07-31 22:12:00   \n",
       "8   [40000:44999]           8       40000     44999  2018-08-31 04:48:00   \n",
       "9   [45000:49999]           9       45000     49999  2018-09-30 11:24:00   \n",
       "10       [0:4999]           0           0      4999  2018-10-30 18:00:00   \n",
       "11    [5000:9999]           1        5000      9999  2018-11-30 00:36:00   \n",
       "12  [10000:14999]           2       10000     14999  2018-12-30 07:12:00   \n",
       "13  [15000:19999]           3       15000     19999  2019-01-29 13:48:00   \n",
       "14  [20000:24999]           4       20000     24999  2019-02-28 20:24:00   \n",
       "15  [25000:29999]           5       25000     29999  2019-03-31 03:00:00   \n",
       "16  [30000:34999]           6       30000     34999  2019-04-30 09:36:00   \n",
       "17  [35000:39999]           7       35000     39999  2019-05-30 16:12:00   \n",
       "18  [40000:44999]           8       40000     44999  2019-06-29 22:48:00   \n",
       "19  [45000:49999]           9       45000     49999  2019-07-30 05:24:00   \n",
       "\n",
       "                                         roc_auc                            \n",
       "                   end_date     period     value sampling_error  realized   \n",
       "0   2018-01-31 06:27:16.848  reference  0.971219       0.001811  0.976253  \\\n",
       "1   2018-03-02 13:03:16.848  reference  0.971052       0.001811  0.969045   \n",
       "2   2018-04-01 19:39:16.848  reference  0.970985       0.001811  0.971742   \n",
       "3   2018-05-02 02:15:16.848  reference  0.971196       0.001811  0.971642   \n",
       "4   2018-06-01 08:51:16.848  reference  0.971054       0.001811  0.969085   \n",
       "5   2018-07-01 15:27:16.848  reference  0.971065       0.001811  0.967364   \n",
       "6   2018-07-31 22:03:16.848  reference  0.970880       0.001811  0.968692   \n",
       "7   2018-08-31 04:39:16.848  reference  0.971173       0.001811  0.970205   \n",
       "8   2018-09-30 11:15:16.848  reference  0.971319       0.001811  0.974096   \n",
       "9   2018-10-30 17:51:16.848  reference  0.971140       0.001811  0.971757   \n",
       "10  2018-11-30 00:27:16.848   analysis  0.970755       0.001811       NaN   \n",
       "11  2018-12-30 07:03:16.848   analysis  0.971022       0.001811       NaN   \n",
       "12  2019-01-29 13:39:16.848   analysis  0.971418       0.001811       NaN   \n",
       "13  2019-02-28 20:15:16.848   analysis  0.971103       0.001811       NaN   \n",
       "14  2019-03-31 02:51:16.848   analysis  0.971135       0.001811       NaN   \n",
       "15  2019-04-30 09:27:16.848   analysis  0.961105       0.001811       NaN   \n",
       "16  2019-05-30 16:03:16.848   analysis  0.961839       0.001811       NaN   \n",
       "17  2019-06-29 22:39:16.848   analysis  0.961088       0.001811       NaN   \n",
       "18  2019-07-30 05:15:16.848   analysis  0.962548       0.001811       NaN   \n",
       "19  2019-08-29 11:51:16.848   analysis  0.961331       0.001811       NaN   \n",
       "\n",
       "                                                                         \n",
       "   upper_confidence_boundary lower_confidence_boundary upper_threshold   \n",
       "0                   0.976652                  0.965787         0.97866  \\\n",
       "1                   0.976484                  0.965620         0.97866   \n",
       "2                   0.976417                  0.965553         0.97866   \n",
       "3                   0.976628                  0.965764         0.97866   \n",
       "4                   0.976487                  0.965622         0.97866   \n",
       "5                   0.976497                  0.965633         0.97866   \n",
       "6                   0.976312                  0.965448         0.97866   \n",
       "7                   0.976605                  0.965741         0.97866   \n",
       "8                   0.976752                  0.965887         0.97866   \n",
       "9                   0.976572                  0.965708         0.97866   \n",
       "10                  0.976187                  0.965323         0.97866   \n",
       "11                  0.976455                  0.965590         0.97866   \n",
       "12                  0.976851                  0.965986         0.97866   \n",
       "13                  0.976535                  0.965671         0.97866   \n",
       "14                  0.976567                  0.965702         0.97866   \n",
       "15                  0.966537                  0.955673         0.97866   \n",
       "16                  0.967272                  0.956407         0.97866   \n",
       "17                  0.966521                  0.955656         0.97866   \n",
       "18                  0.967980                  0.957116         0.97866   \n",
       "19                  0.966763                  0.955899         0.97866   \n",
       "\n",
       "                           \n",
       "   lower_threshold  alert  \n",
       "0         0.963317  False  \n",
       "1         0.963317  False  \n",
       "2         0.963317  False  \n",
       "3         0.963317  False  \n",
       "4         0.963317  False  \n",
       "5         0.963317  False  \n",
       "6         0.963317  False  \n",
       "7         0.963317  False  \n",
       "8         0.963317  False  \n",
       "9         0.963317  False  \n",
       "10        0.963317  False  \n",
       "11        0.963317  False  \n",
       "12        0.963317  False  \n",
       "13        0.963317  False  \n",
       "14        0.963317  False  \n",
       "15        0.963317   True  \n",
       "16        0.963317   True  \n",
       "17        0.963317   True  \n",
       "18        0.963317   True  \n",
       "19        0.963317   True  "
      ]
     },
     "execution_count": 36,
     "metadata": {},
     "output_type": "execute_result"
    }
   ],
   "source": [
    "results = pd.read_csv(transformer.output_path + \"/\" + inference_dataset.split(\"/\")[-1] + \".out\", header = [0,1])\n",
    "results"
   ]
  },
  {
   "cell_type": "markdown",
   "metadata": {},
   "source": [
    "## 7. Clean-up"
   ]
  },
  {
   "cell_type": "markdown",
   "metadata": {},
   "source": [
    "### A. Delete the model"
   ]
  },
  {
   "cell_type": "code",
   "execution_count": 38,
   "metadata": {
    "tags": []
   },
   "outputs": [
    {
     "name": "stderr",
     "output_type": "stream",
     "text": [
      "INFO:sagemaker:Deleting model with name: nannyml-performance-estimation-1350cd6b-2023-08-18-15-52-12-259\n"
     ]
    }
   ],
   "source": [
    "transformer.delete_model()"
   ]
  },
  {
   "cell_type": "markdown",
   "metadata": {},
   "source": [
    "### B. Unsubscribe to the listing (optional)"
   ]
  },
  {
   "cell_type": "markdown",
   "metadata": {},
   "source": [
    "If you would like to unsubscribe to the algorithm, follow these steps. Before you cancel the subscription, ensure that you do not have any [deployable model](https://console.aws.amazon.com/sagemaker/home#/models) created from the model package or using the algorithm. Note - You can find this information by looking at the container name associated with the model. \n",
    "\n",
    "**Steps to unsubscribe to product from AWS Marketplace**:\n",
    "1. Navigate to __Machine Learning__ tab on [__Your Software subscriptions page__](https://aws.amazon.com/marketplace/ai/library?productType=ml&ref_=mlmp_gitdemo_indust)\n",
    "2. Locate the listing that you want to cancel the subscription for, and then choose __Cancel Subscription__  to cancel the subscription.\n",
    "\n"
   ]
  },
  {
   "cell_type": "code",
   "execution_count": null,
   "metadata": {},
   "outputs": [],
   "source": []
  }
 ],
 "metadata": {
  "kernelspec": {
   "display_name": "conda_python3",
   "language": "python",
   "name": "conda_python3"
  },
  "language_info": {
   "codemirror_mode": {
    "name": "ipython",
    "version": 3
   },
   "file_extension": ".py",
   "mimetype": "text/x-python",
   "name": "python",
   "nbconvert_exporter": "python",
   "pygments_lexer": "ipython3",
   "version": "3.10.10"
  }
 },
 "nbformat": 4,
 "nbformat_minor": 4
}
