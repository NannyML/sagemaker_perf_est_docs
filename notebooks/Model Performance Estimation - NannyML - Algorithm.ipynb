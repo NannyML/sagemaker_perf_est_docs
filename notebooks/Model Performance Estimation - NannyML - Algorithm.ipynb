{
 "cells": [
  {
   "cell_type": "markdown",
   "metadata": {},
   "source": [
    "# Using NannyML Performance Estimation Algorithm from AWS Marketplace "
   ]
  },
  {
   "cell_type": "markdown",
   "metadata": {},
   "source": [
    "## Overview\n",
    "\n",
    "NannyML can estimate the performance of a machine learning model running in production. You can read more about how it works [here](https://nannyml.readthedocs.io/en/stable/how_it_works/performance_estimation.html).\n",
    "\n",
    "\n",
    "This sample notebook shows you how to use [Model Performance Estimation - NannyML](https://aws.amazon.com/marketplace/pp/prodview-uotyt66szg34o) from AWS Marketplace to estimate the performance of your deployed machine learnign models.\n",
    "\n",
    "Performance Estimation can work for binary classification, multiclass classification and regression.\n",
    "\n",
    "> **Note**: This is a reference notebook and it cannot run unless you make changes suggested in the notebook.\n",
    "\n",
    "## Pre-requisites\n",
    "1. **Note**: This notebook contains elements which render correctly in Jupyter interface. Open this notebook from an Amazon SageMaker Notebook Instance or Amazon SageMaker Studio.\n",
    "1. Ensure that IAM role used has **AmazonSageMakerFullAccess**\n",
    "1. Some hands-on experience using [Amazon SageMaker](https://aws.amazon.com/sagemaker/).\n",
    "1. To use this algorithm successfully, ensure that:\n",
    "    1. Either your IAM role has these three permissions and you have authority to make AWS Marketplace subscriptions in the AWS account used: \n",
    "        1. **aws-marketplace:ViewSubscriptions**\n",
    "        1. **aws-marketplace:Unsubscribe**\n",
    "        1. **aws-marketplace:Subscribe**  \n",
    "    2. or your AWS account has a subscription to [Model Performance Estimation - NannyML](https://aws.amazon.com/marketplace/pp/prodview-uotyt66szg34o). \n",
    "\n",
    "## Contents\n",
    "1. [Subscribe to the algorithm](#1.-Subscribe-to-the-algorithm)\n",
    "1. [Prepare dataset](#2.-Prepare-dataset)\n",
    "\t1. [Dataset format expected by the algorithm](#A.-Dataset-format-expected-by-the-algorithm)\n",
    "\t1. [Configure and visualize train and test dataset](#B.-Configure-and-visualize-train-and-test-dataset)\n",
    "\t1. [Upload datasets to Amazon S3](#C.-Upload-datasets-to-Amazon-S3)\n",
    "1. [Train a machine learning model](#3:-Train-a-machine-learning-model)\n",
    "\t1. [Set up environment](#3.1-Set-up-environment)\n",
    "\t1. [Train a model](#3.2-Train-a-model)\n",
    "1. [Deploy model](#4:-Deploy-model)\n",
    "1. [Perform Batch inference](#6.-Perform-Batch-inference)\n",
    "1. [Clean-up](#7.-Clean-up)\n",
    "\t1. [Delete the model](#A.-Delete-the-model)\n",
    "\t1. [Unsubscribe to the listing (optional)](#B.-Unsubscribe-to-the-listing-(optional))\n",
    "\n",
    "\n",
    "## Usage instructions\n",
    "You can run this notebook one cell at a time (By using Shift+Enter for running a cell)."
   ]
  },
  {
   "cell_type": "markdown",
   "metadata": {},
   "source": [
    "## 1. Subscribe to the algorithm"
   ]
  },
  {
   "cell_type": "markdown",
   "metadata": {},
   "source": [
    "To subscribe to the algorithm:\n",
    "1. Open the algorithm listing page [Model Performance Estimation - NannyML](https://aws.amazon.com/marketplace/pp/prodview-uotyt66szg34o)\n",
    "1. On the AWS Marketplace listing,  click on **Continue to subscribe** button.\n",
    "1. On the **Subscribe to this software** page, review and click on **\"Accept Offer\"** if you agree with EULA, pricing, and support terms. \n",
    "1. Once you click on **Continue to configuration button** and then choose a **region**, you will see a **Product Arn**. This is the algorithm ARN that you need to specify while training a custom ML model. Copy the ARN corresponding to your region and specify the same in the following cell.\n",
    "\n",
    "<font color='red'>Directly copy your assigned ARN code below:<font>"
   ]
  },
  {
   "cell_type": "code",
   "execution_count": 1,
   "metadata": {
    "tags": []
   },
   "outputs": [],
   "source": [
    "# algo_arn = \"<Customer to specify algorithm ARN corresponding to their AWS region>\"\n",
    "with open('arn.txt', 'r') as file:\n",
    "    algo_arn = file.read().rstrip()\n",
    "# algo_arn"
   ]
  },
  {
   "cell_type": "markdown",
   "metadata": {},
   "source": [
    "## 2. Prepare dataset"
   ]
  },
  {
   "cell_type": "code",
   "execution_count": 2,
   "metadata": {
    "tags": []
   },
   "outputs": [],
   "source": [
    "import sagemaker as sage\n",
    "from sagemaker import get_execution_role\n",
    "import pandas as pd\n",
    "import json"
   ]
  },
  {
   "cell_type": "markdown",
   "metadata": {},
   "source": [
    "### A. Dataset format expected by the algorithm"
   ]
  },
  {
   "cell_type": "markdown",
   "metadata": {},
   "source": [
    "To fully demonstrate the capabilities of NannyML's performance estimation we will provide code for all 3 supported machine learning problem types.\n",
    "\n",
    "- For Binary Classification we are going to use [NannyML's synthetic car loan dataset](https://nannyml.readthedocs.io/en/stable/datasets/binary_car_loan.html).\n",
    "- For Multiclass Classification we are going to use [NannyML's synthetic multiclass creadit card assignment dataset](https://nannyml.readthedocs.io/en/stable/datasets/multiclass.html).\n",
    "- For Regression we are going to use [NannyML's synthetic car price dataset](https://nannyml.readthedocs.io/en/stable/datasets/regression.html).\n",
    "\n",
    "\n",
    "You can find some information about dataset format in **Usage Information** section of [Model Performance Estimation - NannyML](https://aws.amazon.com/marketplace/pp/prodview-uotyt66szg34o).\n",
    "<br>\n",
    "More detailed information can be found in [NannyML's Data Requirements Documentation](https://nannyml.readthedocs.io/en/stable/tutorials/data_requirements.html).\n",
    "\n",
    "<font color='red'>Edit code below as appropriate for the Machine Learning problem type you are interested in:<font>"
   ]
  },
  {
   "cell_type": "code",
   "execution_count": 3,
   "metadata": {
    "tags": []
   },
   "outputs": [],
   "source": [
    "# machine_learning_problem_type = \"Binary Classification\"\n",
    "# machine_learning_problem_type = \"Multiclass Classification\"\n",
    "machine_learning_problem_type = \"Regression\""
   ]
  },
  {
   "cell_type": "markdown",
   "metadata": {},
   "source": [
    "### B. Configure and visualize reference dataset"
   ]
  },
  {
   "cell_type": "code",
   "execution_count": 4,
   "metadata": {
    "tags": []
   },
   "outputs": [
    {
     "data": {
      "text/html": [
       "<div>\n",
       "<style scoped>\n",
       "    .dataframe tbody tr th:only-of-type {\n",
       "        vertical-align: middle;\n",
       "    }\n",
       "\n",
       "    .dataframe tbody tr th {\n",
       "        vertical-align: top;\n",
       "    }\n",
       "\n",
       "    .dataframe thead th {\n",
       "        text-align: right;\n",
       "    }\n",
       "</style>\n",
       "<table border=\"1\" class=\"dataframe\">\n",
       "  <thead>\n",
       "    <tr style=\"text-align: right;\">\n",
       "      <th></th>\n",
       "      <th>car_age</th>\n",
       "      <th>km_driven</th>\n",
       "      <th>price_new</th>\n",
       "      <th>accident_count</th>\n",
       "      <th>door_count</th>\n",
       "      <th>fuel</th>\n",
       "      <th>transmission</th>\n",
       "      <th>y_true</th>\n",
       "      <th>y_pred</th>\n",
       "      <th>timestamp</th>\n",
       "    </tr>\n",
       "  </thead>\n",
       "  <tbody>\n",
       "    <tr>\n",
       "      <th>0</th>\n",
       "      <td>15.0</td>\n",
       "      <td>144020.0</td>\n",
       "      <td>42810.0</td>\n",
       "      <td>4.0</td>\n",
       "      <td>3.0</td>\n",
       "      <td>diesel</td>\n",
       "      <td>automatic</td>\n",
       "      <td>569.0</td>\n",
       "      <td>1246.0</td>\n",
       "      <td>2017-01-24 08:00:00.000</td>\n",
       "    </tr>\n",
       "    <tr>\n",
       "      <th>1</th>\n",
       "      <td>12.0</td>\n",
       "      <td>57078.0</td>\n",
       "      <td>31835.0</td>\n",
       "      <td>3.0</td>\n",
       "      <td>3.0</td>\n",
       "      <td>electric</td>\n",
       "      <td>automatic</td>\n",
       "      <td>4277.0</td>\n",
       "      <td>4924.0</td>\n",
       "      <td>2017-01-24 08:00:33.600</td>\n",
       "    </tr>\n",
       "    <tr>\n",
       "      <th>2</th>\n",
       "      <td>2.0</td>\n",
       "      <td>76288.0</td>\n",
       "      <td>31851.0</td>\n",
       "      <td>3.0</td>\n",
       "      <td>5.0</td>\n",
       "      <td>diesel</td>\n",
       "      <td>automatic</td>\n",
       "      <td>7011.0</td>\n",
       "      <td>5744.0</td>\n",
       "      <td>2017-01-24 08:01:07.200</td>\n",
       "    </tr>\n",
       "    <tr>\n",
       "      <th>3</th>\n",
       "      <td>7.0</td>\n",
       "      <td>97593.0</td>\n",
       "      <td>29288.0</td>\n",
       "      <td>2.0</td>\n",
       "      <td>3.0</td>\n",
       "      <td>electric</td>\n",
       "      <td>manual</td>\n",
       "      <td>5576.0</td>\n",
       "      <td>6781.0</td>\n",
       "      <td>2017-01-24 08:01:40.800</td>\n",
       "    </tr>\n",
       "    <tr>\n",
       "      <th>4</th>\n",
       "      <td>13.0</td>\n",
       "      <td>9985.0</td>\n",
       "      <td>41350.0</td>\n",
       "      <td>1.0</td>\n",
       "      <td>5.0</td>\n",
       "      <td>diesel</td>\n",
       "      <td>automatic</td>\n",
       "      <td>6456.0</td>\n",
       "      <td>6822.0</td>\n",
       "      <td>2017-01-24 08:02:14.400</td>\n",
       "    </tr>\n",
       "  </tbody>\n",
       "</table>\n",
       "</div>"
      ],
      "text/plain": [
       "   car_age  km_driven  price_new  accident_count  door_count      fuel   \n",
       "0     15.0   144020.0    42810.0             4.0         3.0    diesel  \\\n",
       "1     12.0    57078.0    31835.0             3.0         3.0  electric   \n",
       "2      2.0    76288.0    31851.0             3.0         5.0    diesel   \n",
       "3      7.0    97593.0    29288.0             2.0         3.0  electric   \n",
       "4     13.0     9985.0    41350.0             1.0         5.0    diesel   \n",
       "\n",
       "  transmission  y_true  y_pred                timestamp  \n",
       "0    automatic   569.0  1246.0  2017-01-24 08:00:00.000  \n",
       "1    automatic  4277.0  4924.0  2017-01-24 08:00:33.600  \n",
       "2    automatic  7011.0  5744.0  2017-01-24 08:01:07.200  \n",
       "3       manual  5576.0  6781.0  2017-01-24 08:01:40.800  \n",
       "4    automatic  6456.0  6822.0  2017-01-24 08:02:14.400  "
      ]
     },
     "execution_count": 4,
     "metadata": {},
     "output_type": "execute_result"
    }
   ],
   "source": [
    "if machine_learning_problem_type == \"Binary Classification\":\n",
    "    reference_dataset = \"data/bc_reference.csv\"\n",
    "elif machine_learning_problem_type == \"Multiclass Classification\":\n",
    "    reference_dataset = \"data/mc_reference.csv\"\n",
    "elif machine_learning_problem_type == \"Regression\":\n",
    "    reference_dataset = \"data/reg_reference.csv\"\n",
    "else:\n",
    "    raise ValueError(\"Unsupported Machine Learning Problem Type.\")\n",
    "\n",
    "# Show selected dataset\n",
    "pd.read_csv(reference_dataset).head()"
   ]
  },
  {
   "cell_type": "markdown",
   "metadata": {},
   "source": [
    "### C. Upload datasets to Amazon S3"
   ]
  },
  {
   "cell_type": "code",
   "execution_count": 5,
   "metadata": {
    "tags": []
   },
   "outputs": [],
   "source": [
    "sagemaker_session = sage.Session()\n",
    "bucket = sagemaker_session.default_bucket()\n",
    "# bucket"
   ]
  },
  {
   "cell_type": "code",
   "execution_count": 6,
   "metadata": {
    "tags": []
   },
   "outputs": [],
   "source": [
    "demo_prefix = \"doc-notebook-demo\""
   ]
  },
  {
   "cell_type": "code",
   "execution_count": 7,
   "metadata": {
    "tags": []
   },
   "outputs": [],
   "source": [
    "reference_data = sagemaker_session.upload_data(\n",
    "    reference_dataset, bucket=bucket, key_prefix=demo_prefix\n",
    ")"
   ]
  },
  {
   "cell_type": "markdown",
   "metadata": {},
   "source": [
    "## 3: Train a machine learning model"
   ]
  },
  {
   "cell_type": "markdown",
   "metadata": {},
   "source": [
    "Now that dataset is available in an accessible Amazon S3 bucket, we are ready to train a machine learning model. "
   ]
  },
  {
   "cell_type": "markdown",
   "metadata": {},
   "source": [
    "### 3.1 Set up environment"
   ]
  },
  {
   "cell_type": "code",
   "execution_count": 8,
   "metadata": {
    "tags": []
   },
   "outputs": [],
   "source": [
    "role = get_execution_role()"
   ]
  },
  {
   "cell_type": "code",
   "execution_count": 9,
   "metadata": {
    "tags": []
   },
   "outputs": [],
   "source": [
    "output_location = f\"s3://{bucket}/{demo_prefix}/output\"\n",
    "# output_location"
   ]
  },
  {
   "cell_type": "markdown",
   "metadata": {},
   "source": [
    "### 3.2 Train a model"
   ]
  },
  {
   "cell_type": "markdown",
   "metadata": {},
   "source": [
    "You can also find more information about dataset format in **Hyperparameters** section of [Model Performance Estimation - NannyML](https://aws.amazon.com/marketplace/pp/prodview-uotyt66szg34o).\n",
    "\n",
    "For even more detailed information you read NannyML tutorials on performance estimation for:\n",
    "- [Binary Classification](https://nannyml.readthedocs.io/en/stable/tutorials/performance_estimation/binary_performance_estimation.html)\n",
    "- [Multiclass Classification](https://nannyml.readthedocs.io/en/stable/tutorials/performance_estimation/multiclass_performance_estimation.html)\n",
    "- [Regression](https://nannyml.readthedocs.io/en/stable/tutorials/performance_estimation/regression_performance_estimation.html)"
   ]
  },
  {
   "cell_type": "code",
   "execution_count": 10,
   "metadata": {
    "tags": []
   },
   "outputs": [],
   "source": [
    "# Define hyperparameters\n",
    "if machine_learning_problem_type == \"Binary Classification\":\n",
    "    nannyml_parameters = {\n",
    "        \"y_pred_proba\": \"y_pred_proba\",\n",
    "        \"y_pred\": \"y_pred\",\n",
    "        \"y_true\": \"repaid\",\n",
    "        \"timestamp_column_name\": \"timestamp\",\n",
    "        \"metrics\": [\"roc_auc\"],\n",
    "        \"chunk_size\": 5000,\n",
    "        \"problem_type\": \"classification_binary\",\n",
    "    }\n",
    "    # json.dumps needed due to sagemaker specifications\n",
    "    sagemaker_hyperparameters = {\n",
    "        \"data_filename\": reference_dataset.split(\"/\")[-1],\n",
    "        \"data_type\": \"csv\",\n",
    "        \"problem_type\": \"classification_binary\",\n",
    "        \"parameters\": json.dumps(nannyml_parameters),\n",
    "    }\n",
    "elif machine_learning_problem_type == \"Multiclass Classification\":\n",
    "    nannyml_parameters = {\n",
    "        \"y_pred\": \"y_pred\",\n",
    "        \"y_pred_proba\": {\n",
    "            \"prepaid_card\": \"y_pred_proba_prepaid_card\",\n",
    "            \"highstreet_card\": \"y_pred_proba_highstreet_card\",\n",
    "            \"upmarket_card\": \"y_pred_proba_upmarket_card\"\n",
    "        },\n",
    "        \"y_true\": \"y_true\",\n",
    "        \"timestamp_column_name\": \"timestamp\",\n",
    "        \"metrics\": [\"roc_auc\"],\n",
    "        \"chunk_size\": 5000,\n",
    "        \"problem_type\": \"classification_multiclass\",\n",
    "    }\n",
    "    # json.dumps needed due to sagemaker specifications\n",
    "    sagemaker_hyperparameters = {\n",
    "        \"data_filename\": \"mc_reference.csv\",\n",
    "        \"data_type\": \"csv\",\n",
    "        \"problem_type\": \"classification_multiclass\",\n",
    "        \"parameters\": json.dumps(nannyml_parameters),\n",
    "    }\n",
    "elif machine_learning_problem_type == \"Regression\":\n",
    "    nannyml_parameters = {\n",
    "        \"feature_column_names\": [\n",
    "            \"car_age\",\n",
    "            \"km_driven\",\n",
    "            \"price_new\",\n",
    "            \"accident_count\",\n",
    "            \"door_count\",\n",
    "            \"fuel\",\n",
    "            \"transmission\",\n",
    "        ],\n",
    "        \"y_pred\": \"y_pred\",\n",
    "        \"y_true\": \"y_true\",\n",
    "        \"timestamp_column_name\": \"timestamp\",\n",
    "        \"metrics\": [\"rmse\"],\n",
    "        \"chunk_size\": 6000,\n",
    "        \"tune_hyperparameters\": False,\n",
    "    }\n",
    "    # json.dumps needed due to sagemaker specifications\n",
    "    sagemaker_hyperparameters = {\n",
    "        \"data_filename\": reference_dataset.split(\"/\")[-1],\n",
    "        \"data_type\": \"csv\",\n",
    "        \"problem_type\": \"regression\",\n",
    "        \"parameters\": json.dumps(nannyml_parameters),\n",
    "    }\n",
    "else:\n",
    "    raise ValueError(\"Unsupported Machine Learning Problem Type.\")"
   ]
  },
  {
   "cell_type": "markdown",
   "metadata": {},
   "source": [
    "For information on creating an `Estimator` object, see [documentation](https://sagemaker.readthedocs.io/en/stable/api/training/estimators.html)"
   ]
  },
  {
   "cell_type": "code",
   "execution_count": 11,
   "metadata": {
    "tags": []
   },
   "outputs": [],
   "source": [
    "# Create an estimator object for running a training job\n",
    "estimator = sage.algorithm.AlgorithmEstimator(\n",
    "    algorithm_arn=algo_arn,\n",
    "    base_job_name='nml-perf-est',\n",
    "    role=role,\n",
    "    instance_count=1,\n",
    "    instance_type='ml.m5.large',\n",
    "    input_mode=\"File\",\n",
    "    output_path=output_location,\n",
    "    sagemaker_session=sagemaker_session,\n",
    "    hyperparameters=sagemaker_hyperparameters,\n",
    ")"
   ]
  },
  {
   "cell_type": "code",
   "execution_count": 12,
   "metadata": {
    "tags": []
   },
   "outputs": [
    {
     "name": "stderr",
     "output_type": "stream",
     "text": [
      "INFO:sagemaker:Creating training-job with name: nml-perf-est-2023-08-21-05-24-46-306\n"
     ]
    },
    {
     "name": "stdout",
     "output_type": "stream",
     "text": [
      "2023-08-21 05:24:46 Starting - Starting the training job...\n",
      "2023-08-21 05:25:02 Starting - Preparing the instances for training......\n",
      "2023-08-21 05:26:06 Downloading - Downloading input data...\n",
      "2023-08-21 05:26:31 Training - Downloading the training image...\n",
      "2023-08-21 05:27:07 Uploading - Uploading generated training model\u001b[34mINFO:nannyml:Logger object created.\u001b[0m\n",
      "\u001b[34mINFO:nannyml:Hyperparameters read.\u001b[0m\n",
      "\u001b[34mINFO:nannyml:Estimator Instantiated.\u001b[0m\n",
      "\u001b[34mINFO:nannyml:Loaded data.\u001b[0m\n",
      "\u001b[34mINFO:nannyml.base:fitting DLE[tune_hyperparameters=False, metrics=['RMSE']]\u001b[0m\n",
      "\u001b[34mDEBUG:nannyml.performance_estimation.direct_loss_estimation.metrics:fitting RMSE\u001b[0m\n",
      "\u001b[34mDEBUG:nannyml.performance_estimation.direct_loss_estimation.metrics:'tune_hyperparameters' set to 'False': skipping hyperparameter tuning\u001b[0m\n",
      "\u001b[34m/usr/local/lib/python3.8/dist-packages/lightgbm/basic.py:2065: UserWarning: Using categorical_feature in Dataset.\n",
      "  _log_warning('Using categorical_feature in Dataset.')\u001b[0m\n",
      "\u001b[34mDEBUG:nannyml.performance_estimation.direct_loss_estimation.metrics:estimating RMSE\u001b[0m\n",
      "\u001b[34mDEBUG:nannyml.performance_estimation.direct_loss_estimation.metrics:estimating RMSE\u001b[0m\n",
      "\u001b[34mDEBUG:nannyml.performance_estimation.direct_loss_estimation.metrics:estimating RMSE\u001b[0m\n",
      "\u001b[34mDEBUG:nannyml.performance_estimation.direct_loss_estimation.metrics:estimating RMSE\u001b[0m\n",
      "\u001b[34mDEBUG:nannyml.performance_estimation.direct_loss_estimation.metrics:estimating RMSE\u001b[0m\n",
      "\u001b[34mDEBUG:nannyml.performance_estimation.direct_loss_estimation.metrics:estimating RMSE\u001b[0m\n",
      "\u001b[34mDEBUG:nannyml.performance_estimation.direct_loss_estimation.metrics:estimating RMSE\u001b[0m\n",
      "\u001b[34mDEBUG:nannyml.performance_estimation.direct_loss_estimation.metrics:estimating RMSE\u001b[0m\n",
      "\u001b[34mDEBUG:nannyml.performance_estimation.direct_loss_estimation.metrics:estimating RMSE\u001b[0m\n",
      "\u001b[34mDEBUG:nannyml.performance_estimation.direct_loss_estimation.metrics:estimating RMSE\u001b[0m\n",
      "\u001b[34mDEBUG:nannyml.usage_logging:found NML_DISABLE_USAGE_LOGGING key in environment variables. Usage event DLE estimator run not logged.\u001b[0m\n",
      "\u001b[34mDEBUG:nannyml.usage_logging:found NML_DISABLE_USAGE_LOGGING key in environment variables. Usage event DLE estimator fit not logged.\u001b[0m\n",
      "\u001b[34mINFO:nannyml:Estimator fit.\u001b[0m\n",
      "\u001b[34mINFO:nannyml.io.store.base:storing object \"DLE[tune_hyperparameters=False, metrics=['RMSE']]\" to store \"nannyml.io.store.file_store.FilesystemStore\"\u001b[0m\n",
      "\u001b[34mDEBUG:fsspec.local:open file: /opt/ml/model/estimator.pkl\u001b[0m\n",
      "\u001b[34mDEBUG:nannyml.io.store.serializers:serializing object DLE[tune_hyperparameters=False, metrics=['RMSE']]\u001b[0m\n",
      "\u001b[34mINFO:nannyml:Estimator Stored!\u001b[0m\n",
      "\n",
      "2023-08-21 05:27:23 Completed - Training job completed\n",
      "Training seconds: 76\n",
      "Billable seconds: 76\n"
     ]
    }
   ],
   "source": [
    "# Run the training job.\n",
    "estimator.fit(\n",
    "    {'training': reference_data}\n",
    ")"
   ]
  },
  {
   "cell_type": "markdown",
   "metadata": {},
   "source": [
    "See this [blog-post](https://aws.amazon.com/blogs/machine-learning/easily-monitor-and-visualize-metrics-while-training-models-on-amazon-sagemaker/) for more information how to visualize metrics during the process. You can also open the training job from [Amazon SageMaker console](https://console.aws.amazon.com/sagemaker/home?#/jobs/) and monitor the metrics/logs in **Monitor** section."
   ]
  },
  {
   "cell_type": "markdown",
   "metadata": {},
   "source": [
    "## 4: Deploy model"
   ]
  },
  {
   "cell_type": "markdown",
   "metadata": {},
   "source": [
    "**NannyML's Performance Estimation is not designed for real time inference, therefore it is not recommended to use it in this way.**\n",
    "\n",
    "For this reason we are not showcasing the real-time inference feature of Sagemaker Algorithm."
   ]
  },
  {
   "cell_type": "markdown",
   "metadata": {},
   "source": [
    "## 5. Perform Batch inference"
   ]
  },
  {
   "cell_type": "markdown",
   "metadata": {},
   "source": [
    "In this section, you will perform batch inference using multiple input payloads together."
   ]
  },
  {
   "cell_type": "code",
   "execution_count": 13,
   "metadata": {
    "tags": []
   },
   "outputs": [],
   "source": [
    "# upload the batch-transform job input files to S3\n",
    "\n",
    "if machine_learning_problem_type == \"Binary Classification\":\n",
    "    inference_dataset = \"data/bc_analysis.csv\"\n",
    "elif machine_learning_problem_type == \"Multiclass Classification\":\n",
    "    inference_dataset = \"data/mc_analysis.csv\"\n",
    "elif machine_learning_problem_type == \"Regression\":\n",
    "    inference_dataset = \"data/reg_analysis.csv\"\n",
    "else:\n",
    "    raise ValueError(\"Unsupported Machine Learning Problem Type.\")\n",
    "\n",
    "inference_data = sagemaker_session.upload_data(inference_dataset, bucket=bucket, key_prefix=demo_prefix)\n",
    "# print(\"Transform input uploaded to \" + inference_data)"
   ]
  },
  {
   "cell_type": "code",
   "execution_count": 14,
   "metadata": {
    "tags": []
   },
   "outputs": [
    {
     "name": "stderr",
     "output_type": "stream",
     "text": [
      "INFO:sagemaker:Creating model package with name: nannyml-performance-estimation-1350cd6b-2023-08-21-05-27-59-475\n"
     ]
    },
    {
     "name": "stdout",
     "output_type": "stream",
     "text": [
      ".........."
     ]
    },
    {
     "name": "stderr",
     "output_type": "stream",
     "text": [
      "INFO:sagemaker:Creating model with name: nannyml-performance-estimation-1350cd6b-2023-08-21-05-28-50-005\n"
     ]
    },
    {
     "name": "stdout",
     "output_type": "stream",
     "text": [
      "\n"
     ]
    },
    {
     "name": "stderr",
     "output_type": "stream",
     "text": [
      "INFO:sagemaker:Creating transform job with name: nml-perf-est-2023-08-21-05-28-50-522\n"
     ]
    },
    {
     "name": "stdout",
     "output_type": "stream",
     "text": [
      "...........................\n",
      "\u001b[34m * Serving Flask app '/web_app_serve.py'\n",
      " * Debug mode: off\u001b[0m\n",
      "\u001b[34m#033[31m#033[1mWARNING: This is a development server. Do not use it in a production deployment. Use a production WSGI server instead.#033[0m\n",
      " * Running on all addresses (0.0.0.0)\n",
      " * Running on http://127.0.0.1:8080\n",
      " * Running on http://127.0.0.1:8080\u001b[0m\n",
      "\u001b[34m#033[33mPress CTRL+C to quit#033[0m\u001b[0m\n",
      "\u001b[35m * Serving Flask app '/web_app_serve.py'\n",
      " * Debug mode: off\u001b[0m\n",
      "\u001b[35m#033[31m#033[1mWARNING: This is a development server. Do not use it in a production deployment. Use a production WSGI server instead.#033[0m\n",
      " * Running on all addresses (0.0.0.0)\n",
      " * Running on http://127.0.0.1:8080\n",
      " * Running on http://127.0.0.1:8080\u001b[0m\n",
      "\u001b[35m#033[33mPress CTRL+C to quit#033[0m\u001b[0m\n",
      "\u001b[34m169.254.255.130 - - [21/Aug/2023 05:33:24] \"GET /ping HTTP/1.1\" 200 -\u001b[0m\n",
      "\u001b[34m169.254.255.130 - - [21/Aug/2023 05:33:24] \"#033[33mGET /execution-parameters HTTP/1.1#033[0m\" 404 -\u001b[0m\n",
      "\u001b[35m169.254.255.130 - - [21/Aug/2023 05:33:24] \"GET /ping HTTP/1.1\" 200 -\u001b[0m\n",
      "\u001b[35m169.254.255.130 - - [21/Aug/2023 05:33:24] \"#033[33mGET /execution-parameters HTTP/1.1#033[0m\" 404 -\u001b[0m\n",
      "\u001b[34mReceived POST invocation request.\u001b[0m\n",
      "\u001b[34mEstimation invoked with 60000 rows\u001b[0m\n",
      "\u001b[34mEstimation invoked with columns: ['car_age', 'km_driven', 'price_new', 'accident_count', 'door_count', 'fuel', 'transmission', 'y_pred', 'timestamp']\u001b[0m\n",
      "\u001b[34m169.254.255.130 - - [21/Aug/2023 05:33:25] \"POST /invocations HTTP/1.1\" 200 -\u001b[0m\n",
      "\u001b[35mReceived POST invocation request.\u001b[0m\n",
      "\u001b[35mEstimation invoked with 60000 rows\u001b[0m\n",
      "\u001b[35mEstimation invoked with columns: ['car_age', 'km_driven', 'price_new', 'accident_count', 'door_count', 'fuel', 'transmission', 'y_pred', 'timestamp']\u001b[0m\n",
      "\u001b[35m169.254.255.130 - - [21/Aug/2023 05:33:25] \"POST /invocations HTTP/1.1\" 200 -\u001b[0m\n",
      "\u001b[32m2023-08-21T05:33:24.258:[sagemaker logs]: MaxConcurrentTransforms=1, MaxPayloadInMB=6, BatchStrategy=MULTI_RECORD\u001b[0m\n",
      "\u001b[34m * Serving Flask app '/web_app_serve.py'\n",
      " * Debug mode: off\u001b[0m\n",
      "\u001b[34m#033[31m#033[1mWARNING: This is a development server. Do not use it in a production deployment. Use a production WSGI server instead.#033[0m\n",
      " * Running on all addresses (0.0.0.0)\n",
      " * Running on http://127.0.0.1:8080\n",
      " * Running on http://127.0.0.1:8080\u001b[0m\n",
      "\u001b[34m#033[33mPress CTRL+C to quit#033[0m\u001b[0m\n",
      "\u001b[35m * Serving Flask app '/web_app_serve.py'\n",
      " * Debug mode: off\u001b[0m\n",
      "\u001b[35m#033[31m#033[1mWARNING: This is a development server. Do not use it in a production deployment. Use a production WSGI server instead.#033[0m\n",
      " * Running on all addresses (0.0.0.0)\n",
      " * Running on http://127.0.0.1:8080\n",
      " * Running on http://127.0.0.1:8080\u001b[0m\n",
      "\u001b[35m#033[33mPress CTRL+C to quit#033[0m\u001b[0m\n",
      "\u001b[34m169.254.255.130 - - [21/Aug/2023 05:33:24] \"GET /ping HTTP/1.1\" 200 -\u001b[0m\n",
      "\u001b[34m169.254.255.130 - - [21/Aug/2023 05:33:24] \"#033[33mGET /execution-parameters HTTP/1.1#033[0m\" 404 -\u001b[0m\n",
      "\u001b[35m169.254.255.130 - - [21/Aug/2023 05:33:24] \"GET /ping HTTP/1.1\" 200 -\u001b[0m\n",
      "\u001b[35m169.254.255.130 - - [21/Aug/2023 05:33:24] \"#033[33mGET /execution-parameters HTTP/1.1#033[0m\" 404 -\u001b[0m\n",
      "\u001b[34mReceived POST invocation request.\u001b[0m\n",
      "\u001b[34mEstimation invoked with 60000 rows\u001b[0m\n",
      "\u001b[34mEstimation invoked with columns: ['car_age', 'km_driven', 'price_new', 'accident_count', 'door_count', 'fuel', 'transmission', 'y_pred', 'timestamp']\u001b[0m\n",
      "\u001b[34m169.254.255.130 - - [21/Aug/2023 05:33:25] \"POST /invocations HTTP/1.1\" 200 -\u001b[0m\n",
      "\u001b[35mReceived POST invocation request.\u001b[0m\n",
      "\u001b[35mEstimation invoked with 60000 rows\u001b[0m\n",
      "\u001b[35mEstimation invoked with columns: ['car_age', 'km_driven', 'price_new', 'accident_count', 'door_count', 'fuel', 'transmission', 'y_pred', 'timestamp']\u001b[0m\n",
      "\u001b[35m169.254.255.130 - - [21/Aug/2023 05:33:25] \"POST /invocations HTTP/1.1\" 200 -\u001b[0m\n",
      "\u001b[32m2023-08-21T05:33:24.258:[sagemaker logs]: MaxConcurrentTransforms=1, MaxPayloadInMB=6, BatchStrategy=MULTI_RECORD\u001b[0m\n"
     ]
    }
   ],
   "source": [
    "# Run the batch-transform job\n",
    "transformer = estimator.transformer(\n",
    "    instance_count=1,\n",
    "    instance_type=\"ml.m5.large\",\n",
    "    output_path=output_location\n",
    ")\n",
    "transformer.transform(inference_data, content_type=\"text/csv\")\n",
    "transformer.wait()"
   ]
  },
  {
   "cell_type": "markdown",
   "metadata": {},
   "source": [
    "**View Results of Performance Estimation**"
   ]
  },
  {
   "cell_type": "code",
   "execution_count": 15,
   "metadata": {
    "tags": []
   },
   "outputs": [
    {
     "name": "stderr",
     "output_type": "stream",
     "text": [
      "INFO:botocore.credentials:Found credentials from IAM Role: BaseNotebookInstanceEc2InstanceRole\n"
     ]
    },
    {
     "data": {
      "text/html": [
       "<div>\n",
       "<style scoped>\n",
       "    .dataframe tbody tr th:only-of-type {\n",
       "        vertical-align: middle;\n",
       "    }\n",
       "\n",
       "    .dataframe tbody tr th {\n",
       "        vertical-align: top;\n",
       "    }\n",
       "\n",
       "    .dataframe thead tr th {\n",
       "        text-align: left;\n",
       "    }\n",
       "</style>\n",
       "<table border=\"1\" class=\"dataframe\">\n",
       "  <thead>\n",
       "    <tr>\n",
       "      <th></th>\n",
       "      <th colspan=\"7\" halign=\"left\">chunk</th>\n",
       "      <th colspan=\"8\" halign=\"left\">rmse</th>\n",
       "    </tr>\n",
       "    <tr>\n",
       "      <th></th>\n",
       "      <th>key</th>\n",
       "      <th>chunk_index</th>\n",
       "      <th>start_index</th>\n",
       "      <th>end_index</th>\n",
       "      <th>start_date</th>\n",
       "      <th>end_date</th>\n",
       "      <th>period</th>\n",
       "      <th>sampling_error</th>\n",
       "      <th>realized</th>\n",
       "      <th>value</th>\n",
       "      <th>upper_confidence_boundary</th>\n",
       "      <th>lower_confidence_boundary</th>\n",
       "      <th>upper_threshold</th>\n",
       "      <th>lower_threshold</th>\n",
       "      <th>alert</th>\n",
       "    </tr>\n",
       "  </thead>\n",
       "  <tbody>\n",
       "    <tr>\n",
       "      <th>0</th>\n",
       "      <td>[0:5999]</td>\n",
       "      <td>0</td>\n",
       "      <td>0</td>\n",
       "      <td>5999</td>\n",
       "      <td>2017-01-24 08:00:00</td>\n",
       "      <td>2017-01-26 15:59:26.400</td>\n",
       "      <td>reference</td>\n",
       "      <td>10.348009</td>\n",
       "      <td>1086.309762</td>\n",
       "      <td>1073.905515</td>\n",
       "      <td>1104.949542</td>\n",
       "      <td>1042.861488</td>\n",
       "      <td>1103.313741</td>\n",
       "      <td>1014.276167</td>\n",
       "      <td>False</td>\n",
       "    </tr>\n",
       "    <tr>\n",
       "      <th>1</th>\n",
       "      <td>[6000:11999]</td>\n",
       "      <td>1</td>\n",
       "      <td>6000</td>\n",
       "      <td>11999</td>\n",
       "      <td>2017-01-26 16:00:00</td>\n",
       "      <td>2017-01-28 23:59:26.400</td>\n",
       "      <td>reference</td>\n",
       "      <td>10.348009</td>\n",
       "      <td>1060.221538</td>\n",
       "      <td>1056.620005</td>\n",
       "      <td>1087.664032</td>\n",
       "      <td>1025.575979</td>\n",
       "      <td>1103.313741</td>\n",
       "      <td>1014.276167</td>\n",
       "      <td>False</td>\n",
       "    </tr>\n",
       "    <tr>\n",
       "      <th>2</th>\n",
       "      <td>[12000:17999]</td>\n",
       "      <td>2</td>\n",
       "      <td>12000</td>\n",
       "      <td>17999</td>\n",
       "      <td>2017-01-29 00:00:00</td>\n",
       "      <td>2017-01-31 07:59:26.400</td>\n",
       "      <td>reference</td>\n",
       "      <td>10.348009</td>\n",
       "      <td>1038.419338</td>\n",
       "      <td>1054.927053</td>\n",
       "      <td>1085.971080</td>\n",
       "      <td>1023.883026</td>\n",
       "      <td>1103.313741</td>\n",
       "      <td>1014.276167</td>\n",
       "      <td>False</td>\n",
       "    </tr>\n",
       "    <tr>\n",
       "      <th>3</th>\n",
       "      <td>[18000:23999]</td>\n",
       "      <td>3</td>\n",
       "      <td>18000</td>\n",
       "      <td>23999</td>\n",
       "      <td>2017-01-31 08:00:00</td>\n",
       "      <td>2017-02-02 15:59:26.400</td>\n",
       "      <td>reference</td>\n",
       "      <td>10.348009</td>\n",
       "      <td>1038.398714</td>\n",
       "      <td>1054.427268</td>\n",
       "      <td>1085.471295</td>\n",
       "      <td>1023.383241</td>\n",
       "      <td>1103.313741</td>\n",
       "      <td>1014.276167</td>\n",
       "      <td>False</td>\n",
       "    </tr>\n",
       "    <tr>\n",
       "      <th>4</th>\n",
       "      <td>[24000:29999]</td>\n",
       "      <td>4</td>\n",
       "      <td>24000</td>\n",
       "      <td>29999</td>\n",
       "      <td>2017-02-02 16:00:00</td>\n",
       "      <td>2017-02-04 23:59:26.400</td>\n",
       "      <td>reference</td>\n",
       "      <td>10.348009</td>\n",
       "      <td>1072.021221</td>\n",
       "      <td>1066.535506</td>\n",
       "      <td>1097.579533</td>\n",
       "      <td>1035.491480</td>\n",
       "      <td>1103.313741</td>\n",
       "      <td>1014.276167</td>\n",
       "      <td>False</td>\n",
       "    </tr>\n",
       "    <tr>\n",
       "      <th>5</th>\n",
       "      <td>[30000:35999]</td>\n",
       "      <td>5</td>\n",
       "      <td>30000</td>\n",
       "      <td>35999</td>\n",
       "      <td>2017-02-05 00:00:00</td>\n",
       "      <td>2017-02-07 07:59:26.400</td>\n",
       "      <td>reference</td>\n",
       "      <td>10.348009</td>\n",
       "      <td>1074.967232</td>\n",
       "      <td>1064.803413</td>\n",
       "      <td>1095.847440</td>\n",
       "      <td>1033.759386</td>\n",
       "      <td>1103.313741</td>\n",
       "      <td>1014.276167</td>\n",
       "      <td>False</td>\n",
       "    </tr>\n",
       "    <tr>\n",
       "      <th>6</th>\n",
       "      <td>[36000:41999]</td>\n",
       "      <td>6</td>\n",
       "      <td>36000</td>\n",
       "      <td>41999</td>\n",
       "      <td>2017-02-07 08:00:00</td>\n",
       "      <td>2017-02-09 15:59:26.400</td>\n",
       "      <td>reference</td>\n",
       "      <td>10.348009</td>\n",
       "      <td>1058.475997</td>\n",
       "      <td>1057.218829</td>\n",
       "      <td>1088.262856</td>\n",
       "      <td>1026.174803</td>\n",
       "      <td>1103.313741</td>\n",
       "      <td>1014.276167</td>\n",
       "      <td>False</td>\n",
       "    </tr>\n",
       "    <tr>\n",
       "      <th>7</th>\n",
       "      <td>[42000:47999]</td>\n",
       "      <td>7</td>\n",
       "      <td>42000</td>\n",
       "      <td>47999</td>\n",
       "      <td>2017-02-09 16:00:00</td>\n",
       "      <td>2017-02-11 23:59:26.400</td>\n",
       "      <td>reference</td>\n",
       "      <td>10.348009</td>\n",
       "      <td>1050.695322</td>\n",
       "      <td>1055.103720</td>\n",
       "      <td>1086.147746</td>\n",
       "      <td>1024.059693</td>\n",
       "      <td>1103.313741</td>\n",
       "      <td>1014.276167</td>\n",
       "      <td>False</td>\n",
       "    </tr>\n",
       "    <tr>\n",
       "      <th>8</th>\n",
       "      <td>[48000:53999]</td>\n",
       "      <td>8</td>\n",
       "      <td>48000</td>\n",
       "      <td>53999</td>\n",
       "      <td>2017-02-12 00:00:00</td>\n",
       "      <td>2017-02-14 07:59:26.400</td>\n",
       "      <td>reference</td>\n",
       "      <td>10.348009</td>\n",
       "      <td>1048.396774</td>\n",
       "      <td>1052.109723</td>\n",
       "      <td>1083.153750</td>\n",
       "      <td>1021.065696</td>\n",
       "      <td>1103.313741</td>\n",
       "      <td>1014.276167</td>\n",
       "      <td>False</td>\n",
       "    </tr>\n",
       "    <tr>\n",
       "      <th>9</th>\n",
       "      <td>[54000:59999]</td>\n",
       "      <td>9</td>\n",
       "      <td>54000</td>\n",
       "      <td>59999</td>\n",
       "      <td>2017-02-14 08:00:00</td>\n",
       "      <td>2017-02-16 15:59:26.400</td>\n",
       "      <td>reference</td>\n",
       "      <td>10.348009</td>\n",
       "      <td>1060.043640</td>\n",
       "      <td>1053.167044</td>\n",
       "      <td>1084.211071</td>\n",
       "      <td>1022.123017</td>\n",
       "      <td>1103.313741</td>\n",
       "      <td>1014.276167</td>\n",
       "      <td>False</td>\n",
       "    </tr>\n",
       "    <tr>\n",
       "      <th>10</th>\n",
       "      <td>[0:5999]</td>\n",
       "      <td>0</td>\n",
       "      <td>0</td>\n",
       "      <td>5999</td>\n",
       "      <td>2017-02-16 16:00:00</td>\n",
       "      <td>2017-02-18 23:59:26.400</td>\n",
       "      <td>analysis</td>\n",
       "      <td>10.348009</td>\n",
       "      <td>NaN</td>\n",
       "      <td>1067.212885</td>\n",
       "      <td>1098.256912</td>\n",
       "      <td>1036.168858</td>\n",
       "      <td>1103.313741</td>\n",
       "      <td>1014.276167</td>\n",
       "      <td>False</td>\n",
       "    </tr>\n",
       "    <tr>\n",
       "      <th>11</th>\n",
       "      <td>[6000:11999]</td>\n",
       "      <td>1</td>\n",
       "      <td>6000</td>\n",
       "      <td>11999</td>\n",
       "      <td>2017-02-19 00:00:00</td>\n",
       "      <td>2017-02-21 07:59:26.400</td>\n",
       "      <td>analysis</td>\n",
       "      <td>10.348009</td>\n",
       "      <td>NaN</td>\n",
       "      <td>1063.129715</td>\n",
       "      <td>1094.173742</td>\n",
       "      <td>1032.085688</td>\n",
       "      <td>1103.313741</td>\n",
       "      <td>1014.276167</td>\n",
       "      <td>False</td>\n",
       "    </tr>\n",
       "    <tr>\n",
       "      <th>12</th>\n",
       "      <td>[12000:17999]</td>\n",
       "      <td>2</td>\n",
       "      <td>12000</td>\n",
       "      <td>17999</td>\n",
       "      <td>2017-02-21 08:00:00</td>\n",
       "      <td>2017-02-23 15:59:26.400</td>\n",
       "      <td>analysis</td>\n",
       "      <td>10.348009</td>\n",
       "      <td>NaN</td>\n",
       "      <td>1054.158749</td>\n",
       "      <td>1085.202776</td>\n",
       "      <td>1023.114722</td>\n",
       "      <td>1103.313741</td>\n",
       "      <td>1014.276167</td>\n",
       "      <td>False</td>\n",
       "    </tr>\n",
       "    <tr>\n",
       "      <th>13</th>\n",
       "      <td>[18000:23999]</td>\n",
       "      <td>3</td>\n",
       "      <td>18000</td>\n",
       "      <td>23999</td>\n",
       "      <td>2017-02-23 16:00:00</td>\n",
       "      <td>2017-02-25 23:59:26.400</td>\n",
       "      <td>analysis</td>\n",
       "      <td>10.348009</td>\n",
       "      <td>NaN</td>\n",
       "      <td>1060.665742</td>\n",
       "      <td>1091.709769</td>\n",
       "      <td>1029.621715</td>\n",
       "      <td>1103.313741</td>\n",
       "      <td>1014.276167</td>\n",
       "      <td>False</td>\n",
       "    </tr>\n",
       "    <tr>\n",
       "      <th>14</th>\n",
       "      <td>[24000:29999]</td>\n",
       "      <td>4</td>\n",
       "      <td>24000</td>\n",
       "      <td>29999</td>\n",
       "      <td>2017-02-26 00:00:00</td>\n",
       "      <td>2017-02-28 07:59:26.400</td>\n",
       "      <td>analysis</td>\n",
       "      <td>10.348009</td>\n",
       "      <td>NaN</td>\n",
       "      <td>1055.230227</td>\n",
       "      <td>1086.274254</td>\n",
       "      <td>1024.186200</td>\n",
       "      <td>1103.313741</td>\n",
       "      <td>1014.276167</td>\n",
       "      <td>False</td>\n",
       "    </tr>\n",
       "    <tr>\n",
       "      <th>15</th>\n",
       "      <td>[30000:35999]</td>\n",
       "      <td>5</td>\n",
       "      <td>30000</td>\n",
       "      <td>35999</td>\n",
       "      <td>2017-02-28 08:00:00</td>\n",
       "      <td>2017-03-02 15:59:26.400</td>\n",
       "      <td>analysis</td>\n",
       "      <td>10.348009</td>\n",
       "      <td>NaN</td>\n",
       "      <td>928.513388</td>\n",
       "      <td>959.557415</td>\n",
       "      <td>897.469362</td>\n",
       "      <td>1103.313741</td>\n",
       "      <td>1014.276167</td>\n",
       "      <td>True</td>\n",
       "    </tr>\n",
       "    <tr>\n",
       "      <th>16</th>\n",
       "      <td>[36000:41999]</td>\n",
       "      <td>6</td>\n",
       "      <td>36000</td>\n",
       "      <td>41999</td>\n",
       "      <td>2017-03-02 16:00:00</td>\n",
       "      <td>2017-03-04 23:59:26.400</td>\n",
       "      <td>analysis</td>\n",
       "      <td>10.348009</td>\n",
       "      <td>NaN</td>\n",
       "      <td>928.915961</td>\n",
       "      <td>959.959987</td>\n",
       "      <td>897.871934</td>\n",
       "      <td>1103.313741</td>\n",
       "      <td>1014.276167</td>\n",
       "      <td>True</td>\n",
       "    </tr>\n",
       "    <tr>\n",
       "      <th>17</th>\n",
       "      <td>[42000:47999]</td>\n",
       "      <td>7</td>\n",
       "      <td>42000</td>\n",
       "      <td>47999</td>\n",
       "      <td>2017-03-05 00:00:00</td>\n",
       "      <td>2017-03-07 07:59:26.400</td>\n",
       "      <td>analysis</td>\n",
       "      <td>10.348009</td>\n",
       "      <td>NaN</td>\n",
       "      <td>927.915836</td>\n",
       "      <td>958.959863</td>\n",
       "      <td>896.871809</td>\n",
       "      <td>1103.313741</td>\n",
       "      <td>1014.276167</td>\n",
       "      <td>True</td>\n",
       "    </tr>\n",
       "    <tr>\n",
       "      <th>18</th>\n",
       "      <td>[48000:53999]</td>\n",
       "      <td>8</td>\n",
       "      <td>48000</td>\n",
       "      <td>53999</td>\n",
       "      <td>2017-03-07 08:00:00</td>\n",
       "      <td>2017-03-09 15:59:26.400</td>\n",
       "      <td>analysis</td>\n",
       "      <td>10.348009</td>\n",
       "      <td>NaN</td>\n",
       "      <td>930.426206</td>\n",
       "      <td>961.470233</td>\n",
       "      <td>899.382180</td>\n",
       "      <td>1103.313741</td>\n",
       "      <td>1014.276167</td>\n",
       "      <td>True</td>\n",
       "    </tr>\n",
       "    <tr>\n",
       "      <th>19</th>\n",
       "      <td>[54000:59999]</td>\n",
       "      <td>9</td>\n",
       "      <td>54000</td>\n",
       "      <td>59999</td>\n",
       "      <td>2017-03-09 16:00:00</td>\n",
       "      <td>2017-03-11 23:59:26.400</td>\n",
       "      <td>analysis</td>\n",
       "      <td>10.348009</td>\n",
       "      <td>NaN</td>\n",
       "      <td>919.397864</td>\n",
       "      <td>950.441891</td>\n",
       "      <td>888.353838</td>\n",
       "      <td>1103.313741</td>\n",
       "      <td>1014.276167</td>\n",
       "      <td>True</td>\n",
       "    </tr>\n",
       "  </tbody>\n",
       "</table>\n",
       "</div>"
      ],
      "text/plain": [
       "            chunk                                                          \n",
       "              key chunk_index start_index end_index           start_date   \n",
       "0        [0:5999]           0           0      5999  2017-01-24 08:00:00  \\\n",
       "1    [6000:11999]           1        6000     11999  2017-01-26 16:00:00   \n",
       "2   [12000:17999]           2       12000     17999  2017-01-29 00:00:00   \n",
       "3   [18000:23999]           3       18000     23999  2017-01-31 08:00:00   \n",
       "4   [24000:29999]           4       24000     29999  2017-02-02 16:00:00   \n",
       "5   [30000:35999]           5       30000     35999  2017-02-05 00:00:00   \n",
       "6   [36000:41999]           6       36000     41999  2017-02-07 08:00:00   \n",
       "7   [42000:47999]           7       42000     47999  2017-02-09 16:00:00   \n",
       "8   [48000:53999]           8       48000     53999  2017-02-12 00:00:00   \n",
       "9   [54000:59999]           9       54000     59999  2017-02-14 08:00:00   \n",
       "10       [0:5999]           0           0      5999  2017-02-16 16:00:00   \n",
       "11   [6000:11999]           1        6000     11999  2017-02-19 00:00:00   \n",
       "12  [12000:17999]           2       12000     17999  2017-02-21 08:00:00   \n",
       "13  [18000:23999]           3       18000     23999  2017-02-23 16:00:00   \n",
       "14  [24000:29999]           4       24000     29999  2017-02-26 00:00:00   \n",
       "15  [30000:35999]           5       30000     35999  2017-02-28 08:00:00   \n",
       "16  [36000:41999]           6       36000     41999  2017-03-02 16:00:00   \n",
       "17  [42000:47999]           7       42000     47999  2017-03-05 00:00:00   \n",
       "18  [48000:53999]           8       48000     53999  2017-03-07 08:00:00   \n",
       "19  [54000:59999]           9       54000     59999  2017-03-09 16:00:00   \n",
       "\n",
       "                                                 rmse                \n",
       "                   end_date     period sampling_error     realized   \n",
       "0   2017-01-26 15:59:26.400  reference      10.348009  1086.309762  \\\n",
       "1   2017-01-28 23:59:26.400  reference      10.348009  1060.221538   \n",
       "2   2017-01-31 07:59:26.400  reference      10.348009  1038.419338   \n",
       "3   2017-02-02 15:59:26.400  reference      10.348009  1038.398714   \n",
       "4   2017-02-04 23:59:26.400  reference      10.348009  1072.021221   \n",
       "5   2017-02-07 07:59:26.400  reference      10.348009  1074.967232   \n",
       "6   2017-02-09 15:59:26.400  reference      10.348009  1058.475997   \n",
       "7   2017-02-11 23:59:26.400  reference      10.348009  1050.695322   \n",
       "8   2017-02-14 07:59:26.400  reference      10.348009  1048.396774   \n",
       "9   2017-02-16 15:59:26.400  reference      10.348009  1060.043640   \n",
       "10  2017-02-18 23:59:26.400   analysis      10.348009          NaN   \n",
       "11  2017-02-21 07:59:26.400   analysis      10.348009          NaN   \n",
       "12  2017-02-23 15:59:26.400   analysis      10.348009          NaN   \n",
       "13  2017-02-25 23:59:26.400   analysis      10.348009          NaN   \n",
       "14  2017-02-28 07:59:26.400   analysis      10.348009          NaN   \n",
       "15  2017-03-02 15:59:26.400   analysis      10.348009          NaN   \n",
       "16  2017-03-04 23:59:26.400   analysis      10.348009          NaN   \n",
       "17  2017-03-07 07:59:26.400   analysis      10.348009          NaN   \n",
       "18  2017-03-09 15:59:26.400   analysis      10.348009          NaN   \n",
       "19  2017-03-11 23:59:26.400   analysis      10.348009          NaN   \n",
       "\n",
       "                                                                      \n",
       "          value upper_confidence_boundary lower_confidence_boundary   \n",
       "0   1073.905515               1104.949542               1042.861488  \\\n",
       "1   1056.620005               1087.664032               1025.575979   \n",
       "2   1054.927053               1085.971080               1023.883026   \n",
       "3   1054.427268               1085.471295               1023.383241   \n",
       "4   1066.535506               1097.579533               1035.491480   \n",
       "5   1064.803413               1095.847440               1033.759386   \n",
       "6   1057.218829               1088.262856               1026.174803   \n",
       "7   1055.103720               1086.147746               1024.059693   \n",
       "8   1052.109723               1083.153750               1021.065696   \n",
       "9   1053.167044               1084.211071               1022.123017   \n",
       "10  1067.212885               1098.256912               1036.168858   \n",
       "11  1063.129715               1094.173742               1032.085688   \n",
       "12  1054.158749               1085.202776               1023.114722   \n",
       "13  1060.665742               1091.709769               1029.621715   \n",
       "14  1055.230227               1086.274254               1024.186200   \n",
       "15   928.513388                959.557415                897.469362   \n",
       "16   928.915961                959.959987                897.871934   \n",
       "17   927.915836                958.959863                896.871809   \n",
       "18   930.426206                961.470233                899.382180   \n",
       "19   919.397864                950.441891                888.353838   \n",
       "\n",
       "                                           \n",
       "   upper_threshold lower_threshold  alert  \n",
       "0      1103.313741     1014.276167  False  \n",
       "1      1103.313741     1014.276167  False  \n",
       "2      1103.313741     1014.276167  False  \n",
       "3      1103.313741     1014.276167  False  \n",
       "4      1103.313741     1014.276167  False  \n",
       "5      1103.313741     1014.276167  False  \n",
       "6      1103.313741     1014.276167  False  \n",
       "7      1103.313741     1014.276167  False  \n",
       "8      1103.313741     1014.276167  False  \n",
       "9      1103.313741     1014.276167  False  \n",
       "10     1103.313741     1014.276167  False  \n",
       "11     1103.313741     1014.276167  False  \n",
       "12     1103.313741     1014.276167  False  \n",
       "13     1103.313741     1014.276167  False  \n",
       "14     1103.313741     1014.276167  False  \n",
       "15     1103.313741     1014.276167   True  \n",
       "16     1103.313741     1014.276167   True  \n",
       "17     1103.313741     1014.276167   True  \n",
       "18     1103.313741     1014.276167   True  \n",
       "19     1103.313741     1014.276167   True  "
      ]
     },
     "execution_count": 15,
     "metadata": {},
     "output_type": "execute_result"
    }
   ],
   "source": [
    "results = pd.read_csv(transformer.output_path + \"/\" + inference_dataset.split(\"/\")[-1] + \".out\", header = [0,1])\n",
    "results"
   ]
  },
  {
   "cell_type": "markdown",
   "metadata": {},
   "source": [
    "## 7. Clean-up"
   ]
  },
  {
   "cell_type": "markdown",
   "metadata": {},
   "source": [
    "### A. Delete the model"
   ]
  },
  {
   "cell_type": "code",
   "execution_count": 16,
   "metadata": {
    "tags": []
   },
   "outputs": [
    {
     "name": "stderr",
     "output_type": "stream",
     "text": [
      "INFO:sagemaker:Deleting model with name: nannyml-performance-estimation-1350cd6b-2023-08-21-05-28-50-005\n"
     ]
    }
   ],
   "source": [
    "transformer.delete_model()"
   ]
  },
  {
   "cell_type": "markdown",
   "metadata": {},
   "source": [
    "### B. Unsubscribe to the listing (optional)"
   ]
  },
  {
   "cell_type": "markdown",
   "metadata": {},
   "source": [
    "If you would like to unsubscribe to the algorithm, follow these steps. Before you cancel the subscription, ensure that you do not have any [deployable model](https://console.aws.amazon.com/sagemaker/home#/models) created from the model package or using the algorithm. Note - You can find this information by looking at the container name associated with the model. \n",
    "\n",
    "**Steps to unsubscribe to product from AWS Marketplace**:\n",
    "1. Navigate to __Machine Learning__ tab on [__Your Software subscriptions page__](https://aws.amazon.com/marketplace/ai/library?productType=ml&ref_=mlmp_gitdemo_indust)\n",
    "2. Locate the listing that you want to cancel the subscription for, and then choose __Cancel Subscription__  to cancel the subscription.\n",
    "\n"
   ]
  },
  {
   "cell_type": "code",
   "execution_count": null,
   "metadata": {},
   "outputs": [],
   "source": []
  }
 ],
 "metadata": {
  "kernelspec": {
   "display_name": "conda_python3",
   "language": "python",
   "name": "conda_python3"
  },
  "language_info": {
   "codemirror_mode": {
    "name": "ipython",
    "version": 3
   },
   "file_extension": ".py",
   "mimetype": "text/x-python",
   "name": "python",
   "nbconvert_exporter": "python",
   "pygments_lexer": "ipython3",
   "version": "3.10.10"
  }
 },
 "nbformat": 4,
 "nbformat_minor": 4
}
